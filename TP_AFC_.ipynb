{
 "cells": [
  {
   "cell_type": "markdown",
   "id": "31c2f713",
   "metadata": {
    "id": "31c2f713"
   },
   "source": [
    "# TP2: Analyse factorielle des correspondances"
   ]
  },
  {
   "cell_type": "markdown",
   "id": "7f28a658",
   "metadata": {
    "id": "7f28a658"
   },
   "source": [
    "## Najlaa Srifi_____ Hajar El fahfouhi_____Léa Bagheri "
   ]
  },
  {
   "cell_type": "markdown",
   "id": "da8f0ce1",
   "metadata": {
    "id": "da8f0ce1"
   },
   "source": [
    "Le but de ce TP est de mettre en place l'analyse factorielle des correspondances avec toutes ces différentes étapes. Ainsi d'assimiler les bases de la transformation utilisée en AFC"
   ]
  },
  {
   "cell_type": "markdown",
   "id": "8a333b28",
   "metadata": {
    "id": "8a333b28"
   },
   "source": [
    "## Partie 1: AFC "
   ]
  },
  {
   "cell_type": "markdown",
   "id": "c1at9VXvM0tE",
   "metadata": {
    "id": "c1at9VXvM0tE"
   },
   "source": [
    "Pour cela, on commence d’abord par importer le fichier de données .csv, on ne retient que les colonnes « Sexe » et « Fonction » qui feront l’objet de cette étude, et ensuite on procède à la construction de la matrice de contingence."
   ]
  },
  {
   "cell_type": "code",
   "execution_count": null,
   "id": "0bcba6f5",
   "metadata": {
    "id": "0bcba6f5"
   },
   "outputs": [],
   "source": [
    "import numpy as np\n",
    "import pandas as pd \n",
    "import random\n",
    "import math\n",
    "import copy as cp\n",
    "\n",
    "import matplotlib.pyplot as plt \n",
    "from mpl_toolkits import mplot3d\n",
    "import seaborn as sns\n",
    "sns.set()\n",
    "\n",
    "import warnings\n",
    "warnings.filterwarnings(\"ignore\")"
   ]
  },
  {
   "cell_type": "markdown",
   "id": "4d441410",
   "metadata": {
    "id": "4d441410"
   },
   "source": [
    "## Question1: "
   ]
  },
  {
   "cell_type": "markdown",
   "id": "e7403710",
   "metadata": {
    "id": "e7403710"
   },
   "source": [
    "On visualise notre base de données qui issue d'une enquête réalisée lors d'un sondage dans une entreprise sur la perception du travail réalisé"
   ]
  },
  {
   "cell_type": "code",
   "execution_count": null,
   "id": "5efc7c29",
   "metadata": {
    "colab": {
     "base_uri": "https://localhost:8080/",
     "height": 424
    },
    "id": "5efc7c29",
    "outputId": "f4ffa3c6-c10b-4ef7-a945-6f5d61cc5ee4"
   },
   "outputs": [
    {
     "data": {
      "text/html": [
       "\n",
       "  <div id=\"df-b378aa06-bc52-42d7-8cc1-a0f8ba487694\">\n",
       "    <div class=\"colab-df-container\">\n",
       "      <div>\n",
       "<style scoped>\n",
       "    .dataframe tbody tr th:only-of-type {\n",
       "        vertical-align: middle;\n",
       "    }\n",
       "\n",
       "    .dataframe tbody tr th {\n",
       "        vertical-align: top;\n",
       "    }\n",
       "\n",
       "    .dataframe thead th {\n",
       "        text-align: right;\n",
       "    }\n",
       "</style>\n",
       "<table border=\"1\" class=\"dataframe\">\n",
       "  <thead>\n",
       "    <tr style=\"text-align: right;\">\n",
       "      <th></th>\n",
       "      <th>id</th>\n",
       "      <th>Sexe</th>\n",
       "      <th>Fonction</th>\n",
       "      <th>temps travail</th>\n",
       "      <th>Qualite vie</th>\n",
       "    </tr>\n",
       "  </thead>\n",
       "  <tbody>\n",
       "    <tr>\n",
       "      <th>0</th>\n",
       "      <td>1</td>\n",
       "      <td>0</td>\n",
       "      <td>4</td>\n",
       "      <td>16.0</td>\n",
       "      <td>4.0</td>\n",
       "    </tr>\n",
       "    <tr>\n",
       "      <th>1</th>\n",
       "      <td>2</td>\n",
       "      <td>1</td>\n",
       "      <td>3</td>\n",
       "      <td>2.0</td>\n",
       "      <td>16.0</td>\n",
       "    </tr>\n",
       "    <tr>\n",
       "      <th>2</th>\n",
       "      <td>3</td>\n",
       "      <td>2</td>\n",
       "      <td>3</td>\n",
       "      <td>16.0</td>\n",
       "      <td>4.0</td>\n",
       "    </tr>\n",
       "    <tr>\n",
       "      <th>3</th>\n",
       "      <td>4</td>\n",
       "      <td>1</td>\n",
       "      <td>3</td>\n",
       "      <td>4.0</td>\n",
       "      <td>4.0</td>\n",
       "    </tr>\n",
       "    <tr>\n",
       "      <th>4</th>\n",
       "      <td>5</td>\n",
       "      <td>1</td>\n",
       "      <td>2</td>\n",
       "      <td>2.0</td>\n",
       "      <td>4.0</td>\n",
       "    </tr>\n",
       "    <tr>\n",
       "      <th>...</th>\n",
       "      <td>...</td>\n",
       "      <td>...</td>\n",
       "      <td>...</td>\n",
       "      <td>...</td>\n",
       "      <td>...</td>\n",
       "    </tr>\n",
       "    <tr>\n",
       "      <th>246</th>\n",
       "      <td>247</td>\n",
       "      <td>2</td>\n",
       "      <td>3</td>\n",
       "      <td>2.0</td>\n",
       "      <td>4.0</td>\n",
       "    </tr>\n",
       "    <tr>\n",
       "      <th>247</th>\n",
       "      <td>248</td>\n",
       "      <td>2</td>\n",
       "      <td>6</td>\n",
       "      <td>2.0</td>\n",
       "      <td>99.0</td>\n",
       "    </tr>\n",
       "    <tr>\n",
       "      <th>248</th>\n",
       "      <td></td>\n",
       "      <td></td>\n",
       "      <td></td>\n",
       "      <td>NaN</td>\n",
       "      <td>NaN</td>\n",
       "    </tr>\n",
       "    <tr>\n",
       "      <th>249</th>\n",
       "      <td></td>\n",
       "      <td>NaN</td>\n",
       "      <td>NaN</td>\n",
       "      <td>NaN</td>\n",
       "      <td>NaN</td>\n",
       "    </tr>\n",
       "    <tr>\n",
       "      <th>250</th>\n",
       "      <td></td>\n",
       "      <td>NaN</td>\n",
       "      <td>NaN</td>\n",
       "      <td>NaN</td>\n",
       "      <td>NaN</td>\n",
       "    </tr>\n",
       "  </tbody>\n",
       "</table>\n",
       "<p>251 rows × 5 columns</p>\n",
       "</div>\n",
       "      <button class=\"colab-df-convert\" onclick=\"convertToInteractive('df-b378aa06-bc52-42d7-8cc1-a0f8ba487694')\"\n",
       "              title=\"Convert this dataframe to an interactive table.\"\n",
       "              style=\"display:none;\">\n",
       "        \n",
       "  <svg xmlns=\"http://www.w3.org/2000/svg\" height=\"24px\"viewBox=\"0 0 24 24\"\n",
       "       width=\"24px\">\n",
       "    <path d=\"M0 0h24v24H0V0z\" fill=\"none\"/>\n",
       "    <path d=\"M18.56 5.44l.94 2.06.94-2.06 2.06-.94-2.06-.94-.94-2.06-.94 2.06-2.06.94zm-11 1L8.5 8.5l.94-2.06 2.06-.94-2.06-.94L8.5 2.5l-.94 2.06-2.06.94zm10 10l.94 2.06.94-2.06 2.06-.94-2.06-.94-.94-2.06-.94 2.06-2.06.94z\"/><path d=\"M17.41 7.96l-1.37-1.37c-.4-.4-.92-.59-1.43-.59-.52 0-1.04.2-1.43.59L10.3 9.45l-7.72 7.72c-.78.78-.78 2.05 0 2.83L4 21.41c.39.39.9.59 1.41.59.51 0 1.02-.2 1.41-.59l7.78-7.78 2.81-2.81c.8-.78.8-2.07 0-2.86zM5.41 20L4 18.59l7.72-7.72 1.47 1.35L5.41 20z\"/>\n",
       "  </svg>\n",
       "      </button>\n",
       "      \n",
       "  <style>\n",
       "    .colab-df-container {\n",
       "      display:flex;\n",
       "      flex-wrap:wrap;\n",
       "      gap: 12px;\n",
       "    }\n",
       "\n",
       "    .colab-df-convert {\n",
       "      background-color: #E8F0FE;\n",
       "      border: none;\n",
       "      border-radius: 50%;\n",
       "      cursor: pointer;\n",
       "      display: none;\n",
       "      fill: #1967D2;\n",
       "      height: 32px;\n",
       "      padding: 0 0 0 0;\n",
       "      width: 32px;\n",
       "    }\n",
       "\n",
       "    .colab-df-convert:hover {\n",
       "      background-color: #E2EBFA;\n",
       "      box-shadow: 0px 1px 2px rgba(60, 64, 67, 0.3), 0px 1px 3px 1px rgba(60, 64, 67, 0.15);\n",
       "      fill: #174EA6;\n",
       "    }\n",
       "\n",
       "    [theme=dark] .colab-df-convert {\n",
       "      background-color: #3B4455;\n",
       "      fill: #D2E3FC;\n",
       "    }\n",
       "\n",
       "    [theme=dark] .colab-df-convert:hover {\n",
       "      background-color: #434B5C;\n",
       "      box-shadow: 0px 1px 3px 1px rgba(0, 0, 0, 0.15);\n",
       "      filter: drop-shadow(0px 1px 2px rgba(0, 0, 0, 0.3));\n",
       "      fill: #FFFFFF;\n",
       "    }\n",
       "  </style>\n",
       "\n",
       "      <script>\n",
       "        const buttonEl =\n",
       "          document.querySelector('#df-b378aa06-bc52-42d7-8cc1-a0f8ba487694 button.colab-df-convert');\n",
       "        buttonEl.style.display =\n",
       "          google.colab.kernel.accessAllowed ? 'block' : 'none';\n",
       "\n",
       "        async function convertToInteractive(key) {\n",
       "          const element = document.querySelector('#df-b378aa06-bc52-42d7-8cc1-a0f8ba487694');\n",
       "          const dataTable =\n",
       "            await google.colab.kernel.invokeFunction('convertToInteractive',\n",
       "                                                     [key], {});\n",
       "          if (!dataTable) return;\n",
       "\n",
       "          const docLinkHtml = 'Like what you see? Visit the ' +\n",
       "            '<a target=\"_blank\" href=https://colab.research.google.com/notebooks/data_table.ipynb>data table notebook</a>'\n",
       "            + ' to learn more about interactive tables.';\n",
       "          element.innerHTML = '';\n",
       "          dataTable['output_type'] = 'display_data';\n",
       "          await google.colab.output.renderOutput(dataTable, element);\n",
       "          const docLink = document.createElement('div');\n",
       "          docLink.innerHTML = docLinkHtml;\n",
       "          element.appendChild(docLink);\n",
       "        }\n",
       "      </script>\n",
       "    </div>\n",
       "  </div>\n",
       "  "
      ],
      "text/plain": [
       "      id Sexe Fonction   temps travail  Qualite vie\n",
       "0      1    0        4            16.0          4.0\n",
       "1      2    1        3             2.0         16.0\n",
       "2      3    2        3            16.0          4.0\n",
       "3      4    1        3             4.0          4.0\n",
       "4      5    1        2             2.0          4.0\n",
       "..   ...  ...      ...             ...          ...\n",
       "246  247    2        3             2.0          4.0\n",
       "247  248    2        6             2.0         99.0\n",
       "248                                NaN          NaN\n",
       "249       NaN      NaN             NaN          NaN\n",
       "250       NaN      NaN             NaN          NaN\n",
       "\n",
       "[251 rows x 5 columns]"
      ]
     },
     "execution_count": 2,
     "metadata": {},
     "output_type": "execute_result"
    }
   ],
   "source": [
    "dataAFC = pd.read_excel('TP_AFC_majeur1718_travail.xlsx')\n",
    "dataAFC"
   ]
  },
  {
   "cell_type": "code",
   "execution_count": null,
   "id": "1-7RUoIuEJGd",
   "metadata": {
    "colab": {
     "base_uri": "https://localhost:8080/",
     "height": 300
    },
    "id": "1-7RUoIuEJGd",
    "outputId": "c637bdaa-4ae6-440c-f2b0-e8605048ee40"
   },
   "outputs": [
    {
     "data": {
      "text/html": [
       "\n",
       "  <div id=\"df-96240930-cc26-4abc-98ff-359f2c335fe0\">\n",
       "    <div class=\"colab-df-container\">\n",
       "      <div>\n",
       "<style scoped>\n",
       "    .dataframe tbody tr th:only-of-type {\n",
       "        vertical-align: middle;\n",
       "    }\n",
       "\n",
       "    .dataframe tbody tr th {\n",
       "        vertical-align: top;\n",
       "    }\n",
       "\n",
       "    .dataframe thead th {\n",
       "        text-align: right;\n",
       "    }\n",
       "</style>\n",
       "<table border=\"1\" class=\"dataframe\">\n",
       "  <thead>\n",
       "    <tr style=\"text-align: right;\">\n",
       "      <th></th>\n",
       "      <th>temps travail</th>\n",
       "      <th>Qualite vie</th>\n",
       "    </tr>\n",
       "  </thead>\n",
       "  <tbody>\n",
       "    <tr>\n",
       "      <th>count</th>\n",
       "      <td>248.000000</td>\n",
       "      <td>248.000000</td>\n",
       "    </tr>\n",
       "    <tr>\n",
       "      <th>mean</th>\n",
       "      <td>17.967742</td>\n",
       "      <td>20.866935</td>\n",
       "    </tr>\n",
       "    <tr>\n",
       "      <th>std</th>\n",
       "      <td>28.489485</td>\n",
       "      <td>32.217166</td>\n",
       "    </tr>\n",
       "    <tr>\n",
       "      <th>min</th>\n",
       "      <td>2.000000</td>\n",
       "      <td>2.000000</td>\n",
       "    </tr>\n",
       "    <tr>\n",
       "      <th>25%</th>\n",
       "      <td>2.000000</td>\n",
       "      <td>4.000000</td>\n",
       "    </tr>\n",
       "    <tr>\n",
       "      <th>50%</th>\n",
       "      <td>8.000000</td>\n",
       "      <td>4.000000</td>\n",
       "    </tr>\n",
       "    <tr>\n",
       "      <th>75%</th>\n",
       "      <td>16.000000</td>\n",
       "      <td>16.000000</td>\n",
       "    </tr>\n",
       "    <tr>\n",
       "      <th>max</th>\n",
       "      <td>99.000000</td>\n",
       "      <td>99.000000</td>\n",
       "    </tr>\n",
       "  </tbody>\n",
       "</table>\n",
       "</div>\n",
       "      <button class=\"colab-df-convert\" onclick=\"convertToInteractive('df-96240930-cc26-4abc-98ff-359f2c335fe0')\"\n",
       "              title=\"Convert this dataframe to an interactive table.\"\n",
       "              style=\"display:none;\">\n",
       "        \n",
       "  <svg xmlns=\"http://www.w3.org/2000/svg\" height=\"24px\"viewBox=\"0 0 24 24\"\n",
       "       width=\"24px\">\n",
       "    <path d=\"M0 0h24v24H0V0z\" fill=\"none\"/>\n",
       "    <path d=\"M18.56 5.44l.94 2.06.94-2.06 2.06-.94-2.06-.94-.94-2.06-.94 2.06-2.06.94zm-11 1L8.5 8.5l.94-2.06 2.06-.94-2.06-.94L8.5 2.5l-.94 2.06-2.06.94zm10 10l.94 2.06.94-2.06 2.06-.94-2.06-.94-.94-2.06-.94 2.06-2.06.94z\"/><path d=\"M17.41 7.96l-1.37-1.37c-.4-.4-.92-.59-1.43-.59-.52 0-1.04.2-1.43.59L10.3 9.45l-7.72 7.72c-.78.78-.78 2.05 0 2.83L4 21.41c.39.39.9.59 1.41.59.51 0 1.02-.2 1.41-.59l7.78-7.78 2.81-2.81c.8-.78.8-2.07 0-2.86zM5.41 20L4 18.59l7.72-7.72 1.47 1.35L5.41 20z\"/>\n",
       "  </svg>\n",
       "      </button>\n",
       "      \n",
       "  <style>\n",
       "    .colab-df-container {\n",
       "      display:flex;\n",
       "      flex-wrap:wrap;\n",
       "      gap: 12px;\n",
       "    }\n",
       "\n",
       "    .colab-df-convert {\n",
       "      background-color: #E8F0FE;\n",
       "      border: none;\n",
       "      border-radius: 50%;\n",
       "      cursor: pointer;\n",
       "      display: none;\n",
       "      fill: #1967D2;\n",
       "      height: 32px;\n",
       "      padding: 0 0 0 0;\n",
       "      width: 32px;\n",
       "    }\n",
       "\n",
       "    .colab-df-convert:hover {\n",
       "      background-color: #E2EBFA;\n",
       "      box-shadow: 0px 1px 2px rgba(60, 64, 67, 0.3), 0px 1px 3px 1px rgba(60, 64, 67, 0.15);\n",
       "      fill: #174EA6;\n",
       "    }\n",
       "\n",
       "    [theme=dark] .colab-df-convert {\n",
       "      background-color: #3B4455;\n",
       "      fill: #D2E3FC;\n",
       "    }\n",
       "\n",
       "    [theme=dark] .colab-df-convert:hover {\n",
       "      background-color: #434B5C;\n",
       "      box-shadow: 0px 1px 3px 1px rgba(0, 0, 0, 0.15);\n",
       "      filter: drop-shadow(0px 1px 2px rgba(0, 0, 0, 0.3));\n",
       "      fill: #FFFFFF;\n",
       "    }\n",
       "  </style>\n",
       "\n",
       "      <script>\n",
       "        const buttonEl =\n",
       "          document.querySelector('#df-96240930-cc26-4abc-98ff-359f2c335fe0 button.colab-df-convert');\n",
       "        buttonEl.style.display =\n",
       "          google.colab.kernel.accessAllowed ? 'block' : 'none';\n",
       "\n",
       "        async function convertToInteractive(key) {\n",
       "          const element = document.querySelector('#df-96240930-cc26-4abc-98ff-359f2c335fe0');\n",
       "          const dataTable =\n",
       "            await google.colab.kernel.invokeFunction('convertToInteractive',\n",
       "                                                     [key], {});\n",
       "          if (!dataTable) return;\n",
       "\n",
       "          const docLinkHtml = 'Like what you see? Visit the ' +\n",
       "            '<a target=\"_blank\" href=https://colab.research.google.com/notebooks/data_table.ipynb>data table notebook</a>'\n",
       "            + ' to learn more about interactive tables.';\n",
       "          element.innerHTML = '';\n",
       "          dataTable['output_type'] = 'display_data';\n",
       "          await google.colab.output.renderOutput(dataTable, element);\n",
       "          const docLink = document.createElement('div');\n",
       "          docLink.innerHTML = docLinkHtml;\n",
       "          element.appendChild(docLink);\n",
       "        }\n",
       "      </script>\n",
       "    </div>\n",
       "  </div>\n",
       "  "
      ],
      "text/plain": [
       "        temps travail  Qualite vie\n",
       "count      248.000000   248.000000\n",
       "mean        17.967742    20.866935\n",
       "std         28.489485    32.217166\n",
       "min          2.000000     2.000000\n",
       "25%          2.000000     4.000000\n",
       "50%          8.000000     4.000000\n",
       "75%         16.000000    16.000000\n",
       "max         99.000000    99.000000"
      ]
     },
     "execution_count": 3,
     "metadata": {},
     "output_type": "execute_result"
    }
   ],
   "source": [
    "dataAFC.describe()"
   ]
  },
  {
   "cell_type": "code",
   "execution_count": null,
   "id": "ydkFSbIZHF3h",
   "metadata": {
    "colab": {
     "base_uri": "https://localhost:8080/"
    },
    "id": "ydkFSbIZHF3h",
    "outputId": "e86272a9-4709-4e10-a333-fbf4182a9474"
   },
   "outputs": [
    {
     "name": "stdout",
     "output_type": "stream",
     "text": [
      "<class 'pandas.core.frame.DataFrame'>\n",
      "RangeIndex: 251 entries, 0 to 250\n",
      "Data columns (total 5 columns):\n",
      " #   Column          Non-Null Count  Dtype  \n",
      "---  ------          --------------  -----  \n",
      " 0   id              251 non-null    object \n",
      " 1   Sexe            249 non-null    object \n",
      " 2   Fonction        249 non-null    object \n",
      " 3    temps travail  248 non-null    float64\n",
      " 4   Qualite vie     248 non-null    float64\n",
      "dtypes: float64(2), object(3)\n",
      "memory usage: 9.9+ KB\n"
     ]
    }
   ],
   "source": [
    "dataAFC.info()"
   ]
  },
  {
   "cell_type": "markdown",
   "id": "a129440f",
   "metadata": {
    "id": "a129440f"
   },
   "source": [
    "On remarque que dans plusieur lignes,il exist des valeurs NAN. Pour cette raison on utilise la fonction dropana pour supprimer ces lignes"
   ]
  },
  {
   "cell_type": "code",
   "execution_count": null,
   "id": "3742bdeb",
   "metadata": {
    "id": "3742bdeb"
   },
   "outputs": [],
   "source": [
    "#alteration\n",
    "dataAFC = dataAFC.dropna()\n",
    "dataAFC=dataAFC[:-1]\n",
    "dataAFC[\"Sexe\"] = pd.to_numeric(dataAFC[\"Sexe\"])\n",
    "dataAFC[\"Fonction\"] = pd.to_numeric(dataAFC[\"Fonction\"])"
   ]
  },
  {
   "cell_type": "code",
   "execution_count": null,
   "id": "7d8a98f5",
   "metadata": {
    "colab": {
     "base_uri": "https://localhost:8080/",
     "height": 424
    },
    "id": "7d8a98f5",
    "outputId": "f4b59695-38a5-45eb-b484-fd85a872cc60"
   },
   "outputs": [
    {
     "data": {
      "text/html": [
       "\n",
       "  <div id=\"df-ddd0bc6f-36aa-4283-be79-d277ddd63d02\">\n",
       "    <div class=\"colab-df-container\">\n",
       "      <div>\n",
       "<style scoped>\n",
       "    .dataframe tbody tr th:only-of-type {\n",
       "        vertical-align: middle;\n",
       "    }\n",
       "\n",
       "    .dataframe tbody tr th {\n",
       "        vertical-align: top;\n",
       "    }\n",
       "\n",
       "    .dataframe thead th {\n",
       "        text-align: right;\n",
       "    }\n",
       "</style>\n",
       "<table border=\"1\" class=\"dataframe\">\n",
       "  <thead>\n",
       "    <tr style=\"text-align: right;\">\n",
       "      <th></th>\n",
       "      <th>id</th>\n",
       "      <th>Sexe</th>\n",
       "      <th>Fonction</th>\n",
       "      <th>temps travail</th>\n",
       "      <th>Qualite vie</th>\n",
       "    </tr>\n",
       "  </thead>\n",
       "  <tbody>\n",
       "    <tr>\n",
       "      <th>0</th>\n",
       "      <td>1</td>\n",
       "      <td>0</td>\n",
       "      <td>4</td>\n",
       "      <td>16.0</td>\n",
       "      <td>4.0</td>\n",
       "    </tr>\n",
       "    <tr>\n",
       "      <th>1</th>\n",
       "      <td>2</td>\n",
       "      <td>1</td>\n",
       "      <td>3</td>\n",
       "      <td>2.0</td>\n",
       "      <td>16.0</td>\n",
       "    </tr>\n",
       "    <tr>\n",
       "      <th>2</th>\n",
       "      <td>3</td>\n",
       "      <td>2</td>\n",
       "      <td>3</td>\n",
       "      <td>16.0</td>\n",
       "      <td>4.0</td>\n",
       "    </tr>\n",
       "    <tr>\n",
       "      <th>3</th>\n",
       "      <td>4</td>\n",
       "      <td>1</td>\n",
       "      <td>3</td>\n",
       "      <td>4.0</td>\n",
       "      <td>4.0</td>\n",
       "    </tr>\n",
       "    <tr>\n",
       "      <th>4</th>\n",
       "      <td>5</td>\n",
       "      <td>1</td>\n",
       "      <td>2</td>\n",
       "      <td>2.0</td>\n",
       "      <td>4.0</td>\n",
       "    </tr>\n",
       "    <tr>\n",
       "      <th>...</th>\n",
       "      <td>...</td>\n",
       "      <td>...</td>\n",
       "      <td>...</td>\n",
       "      <td>...</td>\n",
       "      <td>...</td>\n",
       "    </tr>\n",
       "    <tr>\n",
       "      <th>242</th>\n",
       "      <td>243</td>\n",
       "      <td>2</td>\n",
       "      <td>1</td>\n",
       "      <td>2.0</td>\n",
       "      <td>4.0</td>\n",
       "    </tr>\n",
       "    <tr>\n",
       "      <th>243</th>\n",
       "      <td>244</td>\n",
       "      <td>2</td>\n",
       "      <td>3</td>\n",
       "      <td>16.0</td>\n",
       "      <td>4.0</td>\n",
       "    </tr>\n",
       "    <tr>\n",
       "      <th>244</th>\n",
       "      <td>245</td>\n",
       "      <td>1</td>\n",
       "      <td>4</td>\n",
       "      <td>16.0</td>\n",
       "      <td>4.0</td>\n",
       "    </tr>\n",
       "    <tr>\n",
       "      <th>245</th>\n",
       "      <td>246</td>\n",
       "      <td>1</td>\n",
       "      <td>1</td>\n",
       "      <td>2.0</td>\n",
       "      <td>4.0</td>\n",
       "    </tr>\n",
       "    <tr>\n",
       "      <th>246</th>\n",
       "      <td>247</td>\n",
       "      <td>2</td>\n",
       "      <td>3</td>\n",
       "      <td>2.0</td>\n",
       "      <td>4.0</td>\n",
       "    </tr>\n",
       "  </tbody>\n",
       "</table>\n",
       "<p>247 rows × 5 columns</p>\n",
       "</div>\n",
       "      <button class=\"colab-df-convert\" onclick=\"convertToInteractive('df-ddd0bc6f-36aa-4283-be79-d277ddd63d02')\"\n",
       "              title=\"Convert this dataframe to an interactive table.\"\n",
       "              style=\"display:none;\">\n",
       "        \n",
       "  <svg xmlns=\"http://www.w3.org/2000/svg\" height=\"24px\"viewBox=\"0 0 24 24\"\n",
       "       width=\"24px\">\n",
       "    <path d=\"M0 0h24v24H0V0z\" fill=\"none\"/>\n",
       "    <path d=\"M18.56 5.44l.94 2.06.94-2.06 2.06-.94-2.06-.94-.94-2.06-.94 2.06-2.06.94zm-11 1L8.5 8.5l.94-2.06 2.06-.94-2.06-.94L8.5 2.5l-.94 2.06-2.06.94zm10 10l.94 2.06.94-2.06 2.06-.94-2.06-.94-.94-2.06-.94 2.06-2.06.94z\"/><path d=\"M17.41 7.96l-1.37-1.37c-.4-.4-.92-.59-1.43-.59-.52 0-1.04.2-1.43.59L10.3 9.45l-7.72 7.72c-.78.78-.78 2.05 0 2.83L4 21.41c.39.39.9.59 1.41.59.51 0 1.02-.2 1.41-.59l7.78-7.78 2.81-2.81c.8-.78.8-2.07 0-2.86zM5.41 20L4 18.59l7.72-7.72 1.47 1.35L5.41 20z\"/>\n",
       "  </svg>\n",
       "      </button>\n",
       "      \n",
       "  <style>\n",
       "    .colab-df-container {\n",
       "      display:flex;\n",
       "      flex-wrap:wrap;\n",
       "      gap: 12px;\n",
       "    }\n",
       "\n",
       "    .colab-df-convert {\n",
       "      background-color: #E8F0FE;\n",
       "      border: none;\n",
       "      border-radius: 50%;\n",
       "      cursor: pointer;\n",
       "      display: none;\n",
       "      fill: #1967D2;\n",
       "      height: 32px;\n",
       "      padding: 0 0 0 0;\n",
       "      width: 32px;\n",
       "    }\n",
       "\n",
       "    .colab-df-convert:hover {\n",
       "      background-color: #E2EBFA;\n",
       "      box-shadow: 0px 1px 2px rgba(60, 64, 67, 0.3), 0px 1px 3px 1px rgba(60, 64, 67, 0.15);\n",
       "      fill: #174EA6;\n",
       "    }\n",
       "\n",
       "    [theme=dark] .colab-df-convert {\n",
       "      background-color: #3B4455;\n",
       "      fill: #D2E3FC;\n",
       "    }\n",
       "\n",
       "    [theme=dark] .colab-df-convert:hover {\n",
       "      background-color: #434B5C;\n",
       "      box-shadow: 0px 1px 3px 1px rgba(0, 0, 0, 0.15);\n",
       "      filter: drop-shadow(0px 1px 2px rgba(0, 0, 0, 0.3));\n",
       "      fill: #FFFFFF;\n",
       "    }\n",
       "  </style>\n",
       "\n",
       "      <script>\n",
       "        const buttonEl =\n",
       "          document.querySelector('#df-ddd0bc6f-36aa-4283-be79-d277ddd63d02 button.colab-df-convert');\n",
       "        buttonEl.style.display =\n",
       "          google.colab.kernel.accessAllowed ? 'block' : 'none';\n",
       "\n",
       "        async function convertToInteractive(key) {\n",
       "          const element = document.querySelector('#df-ddd0bc6f-36aa-4283-be79-d277ddd63d02');\n",
       "          const dataTable =\n",
       "            await google.colab.kernel.invokeFunction('convertToInteractive',\n",
       "                                                     [key], {});\n",
       "          if (!dataTable) return;\n",
       "\n",
       "          const docLinkHtml = 'Like what you see? Visit the ' +\n",
       "            '<a target=\"_blank\" href=https://colab.research.google.com/notebooks/data_table.ipynb>data table notebook</a>'\n",
       "            + ' to learn more about interactive tables.';\n",
       "          element.innerHTML = '';\n",
       "          dataTable['output_type'] = 'display_data';\n",
       "          await google.colab.output.renderOutput(dataTable, element);\n",
       "          const docLink = document.createElement('div');\n",
       "          docLink.innerHTML = docLinkHtml;\n",
       "          element.appendChild(docLink);\n",
       "        }\n",
       "      </script>\n",
       "    </div>\n",
       "  </div>\n",
       "  "
      ],
      "text/plain": [
       "      id  Sexe  Fonction   temps travail  Qualite vie\n",
       "0      1     0         4            16.0          4.0\n",
       "1      2     1         3             2.0         16.0\n",
       "2      3     2         3            16.0          4.0\n",
       "3      4     1         3             4.0          4.0\n",
       "4      5     1         2             2.0          4.0\n",
       "..   ...   ...       ...             ...          ...\n",
       "242  243     2         1             2.0          4.0\n",
       "243  244     2         3            16.0          4.0\n",
       "244  245     1         4            16.0          4.0\n",
       "245  246     1         1             2.0          4.0\n",
       "246  247     2         3             2.0          4.0\n",
       "\n",
       "[247 rows x 5 columns]"
      ]
     },
     "execution_count": 6,
     "metadata": {},
     "output_type": "execute_result"
    }
   ],
   "source": [
    "dataAFC"
   ]
  },
  {
   "cell_type": "markdown",
   "id": "1d573643",
   "metadata": {
    "id": "1d573643"
   },
   "source": [
    "On a choisit de travailler avec les deux variables sexe et fonction et du coup notre analyse concernera l'adéquation entre modalité de sexe et le travail à réaliser"
   ]
  },
  {
   "cell_type": "code",
   "execution_count": null,
   "id": "0b722079",
   "metadata": {
    "colab": {
     "base_uri": "https://localhost:8080/",
     "height": 206
    },
    "id": "0b722079",
    "outputId": "e7fc3c3f-e8fa-49d4-d662-2c7806bea62c",
    "scrolled": true
   },
   "outputs": [
    {
     "data": {
      "text/html": [
       "\n",
       "  <div id=\"df-210c8ca2-115a-431c-b718-f1b0b5a3e9e0\">\n",
       "    <div class=\"colab-df-container\">\n",
       "      <div>\n",
       "<style scoped>\n",
       "    .dataframe tbody tr th:only-of-type {\n",
       "        vertical-align: middle;\n",
       "    }\n",
       "\n",
       "    .dataframe tbody tr th {\n",
       "        vertical-align: top;\n",
       "    }\n",
       "\n",
       "    .dataframe thead th {\n",
       "        text-align: right;\n",
       "    }\n",
       "</style>\n",
       "<table border=\"1\" class=\"dataframe\">\n",
       "  <thead>\n",
       "    <tr style=\"text-align: right;\">\n",
       "      <th></th>\n",
       "      <th>Sexe</th>\n",
       "      <th>Fonction</th>\n",
       "    </tr>\n",
       "  </thead>\n",
       "  <tbody>\n",
       "    <tr>\n",
       "      <th>0</th>\n",
       "      <td>0</td>\n",
       "      <td>4</td>\n",
       "    </tr>\n",
       "    <tr>\n",
       "      <th>1</th>\n",
       "      <td>1</td>\n",
       "      <td>3</td>\n",
       "    </tr>\n",
       "    <tr>\n",
       "      <th>2</th>\n",
       "      <td>2</td>\n",
       "      <td>3</td>\n",
       "    </tr>\n",
       "    <tr>\n",
       "      <th>3</th>\n",
       "      <td>1</td>\n",
       "      <td>3</td>\n",
       "    </tr>\n",
       "    <tr>\n",
       "      <th>4</th>\n",
       "      <td>1</td>\n",
       "      <td>2</td>\n",
       "    </tr>\n",
       "  </tbody>\n",
       "</table>\n",
       "</div>\n",
       "      <button class=\"colab-df-convert\" onclick=\"convertToInteractive('df-210c8ca2-115a-431c-b718-f1b0b5a3e9e0')\"\n",
       "              title=\"Convert this dataframe to an interactive table.\"\n",
       "              style=\"display:none;\">\n",
       "        \n",
       "  <svg xmlns=\"http://www.w3.org/2000/svg\" height=\"24px\"viewBox=\"0 0 24 24\"\n",
       "       width=\"24px\">\n",
       "    <path d=\"M0 0h24v24H0V0z\" fill=\"none\"/>\n",
       "    <path d=\"M18.56 5.44l.94 2.06.94-2.06 2.06-.94-2.06-.94-.94-2.06-.94 2.06-2.06.94zm-11 1L8.5 8.5l.94-2.06 2.06-.94-2.06-.94L8.5 2.5l-.94 2.06-2.06.94zm10 10l.94 2.06.94-2.06 2.06-.94-2.06-.94-.94-2.06-.94 2.06-2.06.94z\"/><path d=\"M17.41 7.96l-1.37-1.37c-.4-.4-.92-.59-1.43-.59-.52 0-1.04.2-1.43.59L10.3 9.45l-7.72 7.72c-.78.78-.78 2.05 0 2.83L4 21.41c.39.39.9.59 1.41.59.51 0 1.02-.2 1.41-.59l7.78-7.78 2.81-2.81c.8-.78.8-2.07 0-2.86zM5.41 20L4 18.59l7.72-7.72 1.47 1.35L5.41 20z\"/>\n",
       "  </svg>\n",
       "      </button>\n",
       "      \n",
       "  <style>\n",
       "    .colab-df-container {\n",
       "      display:flex;\n",
       "      flex-wrap:wrap;\n",
       "      gap: 12px;\n",
       "    }\n",
       "\n",
       "    .colab-df-convert {\n",
       "      background-color: #E8F0FE;\n",
       "      border: none;\n",
       "      border-radius: 50%;\n",
       "      cursor: pointer;\n",
       "      display: none;\n",
       "      fill: #1967D2;\n",
       "      height: 32px;\n",
       "      padding: 0 0 0 0;\n",
       "      width: 32px;\n",
       "    }\n",
       "\n",
       "    .colab-df-convert:hover {\n",
       "      background-color: #E2EBFA;\n",
       "      box-shadow: 0px 1px 2px rgba(60, 64, 67, 0.3), 0px 1px 3px 1px rgba(60, 64, 67, 0.15);\n",
       "      fill: #174EA6;\n",
       "    }\n",
       "\n",
       "    [theme=dark] .colab-df-convert {\n",
       "      background-color: #3B4455;\n",
       "      fill: #D2E3FC;\n",
       "    }\n",
       "\n",
       "    [theme=dark] .colab-df-convert:hover {\n",
       "      background-color: #434B5C;\n",
       "      box-shadow: 0px 1px 3px 1px rgba(0, 0, 0, 0.15);\n",
       "      filter: drop-shadow(0px 1px 2px rgba(0, 0, 0, 0.3));\n",
       "      fill: #FFFFFF;\n",
       "    }\n",
       "  </style>\n",
       "\n",
       "      <script>\n",
       "        const buttonEl =\n",
       "          document.querySelector('#df-210c8ca2-115a-431c-b718-f1b0b5a3e9e0 button.colab-df-convert');\n",
       "        buttonEl.style.display =\n",
       "          google.colab.kernel.accessAllowed ? 'block' : 'none';\n",
       "\n",
       "        async function convertToInteractive(key) {\n",
       "          const element = document.querySelector('#df-210c8ca2-115a-431c-b718-f1b0b5a3e9e0');\n",
       "          const dataTable =\n",
       "            await google.colab.kernel.invokeFunction('convertToInteractive',\n",
       "                                                     [key], {});\n",
       "          if (!dataTable) return;\n",
       "\n",
       "          const docLinkHtml = 'Like what you see? Visit the ' +\n",
       "            '<a target=\"_blank\" href=https://colab.research.google.com/notebooks/data_table.ipynb>data table notebook</a>'\n",
       "            + ' to learn more about interactive tables.';\n",
       "          element.innerHTML = '';\n",
       "          dataTable['output_type'] = 'display_data';\n",
       "          await google.colab.output.renderOutput(dataTable, element);\n",
       "          const docLink = document.createElement('div');\n",
       "          docLink.innerHTML = docLinkHtml;\n",
       "          element.appendChild(docLink);\n",
       "        }\n",
       "      </script>\n",
       "    </div>\n",
       "  </div>\n",
       "  "
      ],
      "text/plain": [
       "   Sexe  Fonction\n",
       "0     0         4\n",
       "1     1         3\n",
       "2     2         3\n",
       "3     1         3\n",
       "4     1         2"
      ]
     },
     "execution_count": 7,
     "metadata": {},
     "output_type": "execute_result"
    }
   ],
   "source": [
    "dataAFC = dataAFC[[\"Sexe\", \"Fonction\"]]\n",
    "dataAFC.head()"
   ]
  },
  {
   "cell_type": "markdown",
   "id": "573d920b",
   "metadata": {
    "id": "573d920b"
   },
   "source": [
    "#### Matrice de  contingence"
   ]
  },
  {
   "cell_type": "markdown",
   "id": "jA4r3Fke2e2s",
   "metadata": {
    "id": "jA4r3Fke2e2s"
   },
   "source": [
    "AFC permet d’étuder un lien entre différentes modalités de chaque vari-\n",
    "able. Pour cela nous il vaut mieux travailler en terme de proportion.La première étape consiste à calculer la somme des effectifs du tableau de données\n",
    "puis diviser la matrice des effectifs par ce grand total."
   ]
  },
  {
   "cell_type": "markdown",
   "id": "17372179",
   "metadata": {
    "id": "17372179"
   },
   "source": [
    "On a les deux variables (sexe, Fonction) observées simultanément sur 247 indvidus. La première variable possède 3 modalités et la seconde possède 8 modalités (3*8=24 )"
   ]
  },
  {
   "cell_type": "code",
   "execution_count": null,
   "id": "8e45e5ac",
   "metadata": {
    "colab": {
     "base_uri": "https://localhost:8080/",
     "height": 143
    },
    "id": "8e45e5ac",
    "outputId": "6e316d29-ca60-438f-ddab-5137d63337c3"
   },
   "outputs": [
    {
     "data": {
      "text/html": [
       "\n",
       "  <div id=\"df-2f5f262a-a947-4452-af54-fa24463faca4\">\n",
       "    <div class=\"colab-df-container\">\n",
       "      <div>\n",
       "<style scoped>\n",
       "    .dataframe tbody tr th:only-of-type {\n",
       "        vertical-align: middle;\n",
       "    }\n",
       "\n",
       "    .dataframe tbody tr th {\n",
       "        vertical-align: top;\n",
       "    }\n",
       "\n",
       "    .dataframe thead th {\n",
       "        text-align: right;\n",
       "    }\n",
       "</style>\n",
       "<table border=\"1\" class=\"dataframe\">\n",
       "  <thead>\n",
       "    <tr style=\"text-align: right;\">\n",
       "      <th></th>\n",
       "      <th>0</th>\n",
       "      <th>1</th>\n",
       "      <th>2</th>\n",
       "      <th>3</th>\n",
       "      <th>4</th>\n",
       "      <th>5</th>\n",
       "      <th>6</th>\n",
       "      <th>7</th>\n",
       "    </tr>\n",
       "  </thead>\n",
       "  <tbody>\n",
       "    <tr>\n",
       "      <th>0</th>\n",
       "      <td>8.0</td>\n",
       "      <td>0.0</td>\n",
       "      <td>3.0</td>\n",
       "      <td>7.0</td>\n",
       "      <td>3.0</td>\n",
       "      <td>0.0</td>\n",
       "      <td>0.0</td>\n",
       "      <td>4.0</td>\n",
       "    </tr>\n",
       "    <tr>\n",
       "      <th>1</th>\n",
       "      <td>0.0</td>\n",
       "      <td>15.0</td>\n",
       "      <td>24.0</td>\n",
       "      <td>48.0</td>\n",
       "      <td>13.0</td>\n",
       "      <td>6.0</td>\n",
       "      <td>12.0</td>\n",
       "      <td>4.0</td>\n",
       "    </tr>\n",
       "    <tr>\n",
       "      <th>2</th>\n",
       "      <td>0.0</td>\n",
       "      <td>57.0</td>\n",
       "      <td>9.0</td>\n",
       "      <td>18.0</td>\n",
       "      <td>7.0</td>\n",
       "      <td>1.0</td>\n",
       "      <td>5.0</td>\n",
       "      <td>3.0</td>\n",
       "    </tr>\n",
       "  </tbody>\n",
       "</table>\n",
       "</div>\n",
       "      <button class=\"colab-df-convert\" onclick=\"convertToInteractive('df-2f5f262a-a947-4452-af54-fa24463faca4')\"\n",
       "              title=\"Convert this dataframe to an interactive table.\"\n",
       "              style=\"display:none;\">\n",
       "        \n",
       "  <svg xmlns=\"http://www.w3.org/2000/svg\" height=\"24px\"viewBox=\"0 0 24 24\"\n",
       "       width=\"24px\">\n",
       "    <path d=\"M0 0h24v24H0V0z\" fill=\"none\"/>\n",
       "    <path d=\"M18.56 5.44l.94 2.06.94-2.06 2.06-.94-2.06-.94-.94-2.06-.94 2.06-2.06.94zm-11 1L8.5 8.5l.94-2.06 2.06-.94-2.06-.94L8.5 2.5l-.94 2.06-2.06.94zm10 10l.94 2.06.94-2.06 2.06-.94-2.06-.94-.94-2.06-.94 2.06-2.06.94z\"/><path d=\"M17.41 7.96l-1.37-1.37c-.4-.4-.92-.59-1.43-.59-.52 0-1.04.2-1.43.59L10.3 9.45l-7.72 7.72c-.78.78-.78 2.05 0 2.83L4 21.41c.39.39.9.59 1.41.59.51 0 1.02-.2 1.41-.59l7.78-7.78 2.81-2.81c.8-.78.8-2.07 0-2.86zM5.41 20L4 18.59l7.72-7.72 1.47 1.35L5.41 20z\"/>\n",
       "  </svg>\n",
       "      </button>\n",
       "      \n",
       "  <style>\n",
       "    .colab-df-container {\n",
       "      display:flex;\n",
       "      flex-wrap:wrap;\n",
       "      gap: 12px;\n",
       "    }\n",
       "\n",
       "    .colab-df-convert {\n",
       "      background-color: #E8F0FE;\n",
       "      border: none;\n",
       "      border-radius: 50%;\n",
       "      cursor: pointer;\n",
       "      display: none;\n",
       "      fill: #1967D2;\n",
       "      height: 32px;\n",
       "      padding: 0 0 0 0;\n",
       "      width: 32px;\n",
       "    }\n",
       "\n",
       "    .colab-df-convert:hover {\n",
       "      background-color: #E2EBFA;\n",
       "      box-shadow: 0px 1px 2px rgba(60, 64, 67, 0.3), 0px 1px 3px 1px rgba(60, 64, 67, 0.15);\n",
       "      fill: #174EA6;\n",
       "    }\n",
       "\n",
       "    [theme=dark] .colab-df-convert {\n",
       "      background-color: #3B4455;\n",
       "      fill: #D2E3FC;\n",
       "    }\n",
       "\n",
       "    [theme=dark] .colab-df-convert:hover {\n",
       "      background-color: #434B5C;\n",
       "      box-shadow: 0px 1px 3px 1px rgba(0, 0, 0, 0.15);\n",
       "      filter: drop-shadow(0px 1px 2px rgba(0, 0, 0, 0.3));\n",
       "      fill: #FFFFFF;\n",
       "    }\n",
       "  </style>\n",
       "\n",
       "      <script>\n",
       "        const buttonEl =\n",
       "          document.querySelector('#df-2f5f262a-a947-4452-af54-fa24463faca4 button.colab-df-convert');\n",
       "        buttonEl.style.display =\n",
       "          google.colab.kernel.accessAllowed ? 'block' : 'none';\n",
       "\n",
       "        async function convertToInteractive(key) {\n",
       "          const element = document.querySelector('#df-2f5f262a-a947-4452-af54-fa24463faca4');\n",
       "          const dataTable =\n",
       "            await google.colab.kernel.invokeFunction('convertToInteractive',\n",
       "                                                     [key], {});\n",
       "          if (!dataTable) return;\n",
       "\n",
       "          const docLinkHtml = 'Like what you see? Visit the ' +\n",
       "            '<a target=\"_blank\" href=https://colab.research.google.com/notebooks/data_table.ipynb>data table notebook</a>'\n",
       "            + ' to learn more about interactive tables.';\n",
       "          element.innerHTML = '';\n",
       "          dataTable['output_type'] = 'display_data';\n",
       "          await google.colab.output.renderOutput(dataTable, element);\n",
       "          const docLink = document.createElement('div');\n",
       "          docLink.innerHTML = docLinkHtml;\n",
       "          element.appendChild(docLink);\n",
       "        }\n",
       "      </script>\n",
       "    </div>\n",
       "  </div>\n",
       "  "
      ],
      "text/plain": [
       "     0     1     2     3     4    5     6    7\n",
       "0  8.0   0.0   3.0   7.0   3.0  0.0   0.0  4.0\n",
       "1  0.0  15.0  24.0  48.0  13.0  6.0  12.0  4.0\n",
       "2  0.0  57.0   9.0  18.0   7.0  1.0   5.0  3.0"
      ]
     },
     "execution_count": 17,
     "metadata": {},
     "output_type": "execute_result"
    }
   ],
   "source": [
    "n = np.max(dataAFC[\"Sexe\"]) + 1\n",
    "p = np.max(dataAFC[\"Fonction\"]) + 1\n",
    "M_contingence = np.zeros((n, p))\n",
    "for i in range(0, dataAFC.shape[0]):\n",
    "    M_contingence[(dataAFC[\"Sexe\"][i], dataAFC[\"Fonction\"][i])] += 1\n",
    "MC=pd.DataFrame(M_contingence)\n",
    "MC"
   ]
  },
  {
   "cell_type": "markdown",
   "id": "31ff40ca",
   "metadata": {
    "id": "31ff40ca"
   },
   "source": [
    "#### Matrice de fréquence"
   ]
  },
  {
   "cell_type": "code",
   "execution_count": null,
   "id": "fc709a15",
   "metadata": {
    "colab": {
     "base_uri": "https://localhost:8080/",
     "height": 143
    },
    "id": "fc709a15",
    "outputId": "e1ed5109-80c9-4159-9449-64fc4a2723d0",
    "scrolled": true
   },
   "outputs": [
    {
     "data": {
      "text/html": [
       "\n",
       "  <div id=\"df-effa9210-51c9-4ca3-8086-1694c5ef63fb\">\n",
       "    <div class=\"colab-df-container\">\n",
       "      <div>\n",
       "<style scoped>\n",
       "    .dataframe tbody tr th:only-of-type {\n",
       "        vertical-align: middle;\n",
       "    }\n",
       "\n",
       "    .dataframe tbody tr th {\n",
       "        vertical-align: top;\n",
       "    }\n",
       "\n",
       "    .dataframe thead th {\n",
       "        text-align: right;\n",
       "    }\n",
       "</style>\n",
       "<table border=\"1\" class=\"dataframe\">\n",
       "  <thead>\n",
       "    <tr style=\"text-align: right;\">\n",
       "      <th></th>\n",
       "      <th>0</th>\n",
       "      <th>1</th>\n",
       "      <th>2</th>\n",
       "      <th>3</th>\n",
       "      <th>4</th>\n",
       "      <th>5</th>\n",
       "      <th>6</th>\n",
       "      <th>7</th>\n",
       "    </tr>\n",
       "  </thead>\n",
       "  <tbody>\n",
       "    <tr>\n",
       "      <th>0</th>\n",
       "      <td>0.032389</td>\n",
       "      <td>0.000000</td>\n",
       "      <td>0.012146</td>\n",
       "      <td>0.028340</td>\n",
       "      <td>0.012146</td>\n",
       "      <td>0.000000</td>\n",
       "      <td>0.000000</td>\n",
       "      <td>0.016194</td>\n",
       "    </tr>\n",
       "    <tr>\n",
       "      <th>1</th>\n",
       "      <td>0.000000</td>\n",
       "      <td>0.060729</td>\n",
       "      <td>0.097166</td>\n",
       "      <td>0.194332</td>\n",
       "      <td>0.052632</td>\n",
       "      <td>0.024291</td>\n",
       "      <td>0.048583</td>\n",
       "      <td>0.016194</td>\n",
       "    </tr>\n",
       "    <tr>\n",
       "      <th>2</th>\n",
       "      <td>0.000000</td>\n",
       "      <td>0.230769</td>\n",
       "      <td>0.036437</td>\n",
       "      <td>0.072874</td>\n",
       "      <td>0.028340</td>\n",
       "      <td>0.004049</td>\n",
       "      <td>0.020243</td>\n",
       "      <td>0.012146</td>\n",
       "    </tr>\n",
       "  </tbody>\n",
       "</table>\n",
       "</div>\n",
       "      <button class=\"colab-df-convert\" onclick=\"convertToInteractive('df-effa9210-51c9-4ca3-8086-1694c5ef63fb')\"\n",
       "              title=\"Convert this dataframe to an interactive table.\"\n",
       "              style=\"display:none;\">\n",
       "        \n",
       "  <svg xmlns=\"http://www.w3.org/2000/svg\" height=\"24px\"viewBox=\"0 0 24 24\"\n",
       "       width=\"24px\">\n",
       "    <path d=\"M0 0h24v24H0V0z\" fill=\"none\"/>\n",
       "    <path d=\"M18.56 5.44l.94 2.06.94-2.06 2.06-.94-2.06-.94-.94-2.06-.94 2.06-2.06.94zm-11 1L8.5 8.5l.94-2.06 2.06-.94-2.06-.94L8.5 2.5l-.94 2.06-2.06.94zm10 10l.94 2.06.94-2.06 2.06-.94-2.06-.94-.94-2.06-.94 2.06-2.06.94z\"/><path d=\"M17.41 7.96l-1.37-1.37c-.4-.4-.92-.59-1.43-.59-.52 0-1.04.2-1.43.59L10.3 9.45l-7.72 7.72c-.78.78-.78 2.05 0 2.83L4 21.41c.39.39.9.59 1.41.59.51 0 1.02-.2 1.41-.59l7.78-7.78 2.81-2.81c.8-.78.8-2.07 0-2.86zM5.41 20L4 18.59l7.72-7.72 1.47 1.35L5.41 20z\"/>\n",
       "  </svg>\n",
       "      </button>\n",
       "      \n",
       "  <style>\n",
       "    .colab-df-container {\n",
       "      display:flex;\n",
       "      flex-wrap:wrap;\n",
       "      gap: 12px;\n",
       "    }\n",
       "\n",
       "    .colab-df-convert {\n",
       "      background-color: #E8F0FE;\n",
       "      border: none;\n",
       "      border-radius: 50%;\n",
       "      cursor: pointer;\n",
       "      display: none;\n",
       "      fill: #1967D2;\n",
       "      height: 32px;\n",
       "      padding: 0 0 0 0;\n",
       "      width: 32px;\n",
       "    }\n",
       "\n",
       "    .colab-df-convert:hover {\n",
       "      background-color: #E2EBFA;\n",
       "      box-shadow: 0px 1px 2px rgba(60, 64, 67, 0.3), 0px 1px 3px 1px rgba(60, 64, 67, 0.15);\n",
       "      fill: #174EA6;\n",
       "    }\n",
       "\n",
       "    [theme=dark] .colab-df-convert {\n",
       "      background-color: #3B4455;\n",
       "      fill: #D2E3FC;\n",
       "    }\n",
       "\n",
       "    [theme=dark] .colab-df-convert:hover {\n",
       "      background-color: #434B5C;\n",
       "      box-shadow: 0px 1px 3px 1px rgba(0, 0, 0, 0.15);\n",
       "      filter: drop-shadow(0px 1px 2px rgba(0, 0, 0, 0.3));\n",
       "      fill: #FFFFFF;\n",
       "    }\n",
       "  </style>\n",
       "\n",
       "      <script>\n",
       "        const buttonEl =\n",
       "          document.querySelector('#df-effa9210-51c9-4ca3-8086-1694c5ef63fb button.colab-df-convert');\n",
       "        buttonEl.style.display =\n",
       "          google.colab.kernel.accessAllowed ? 'block' : 'none';\n",
       "\n",
       "        async function convertToInteractive(key) {\n",
       "          const element = document.querySelector('#df-effa9210-51c9-4ca3-8086-1694c5ef63fb');\n",
       "          const dataTable =\n",
       "            await google.colab.kernel.invokeFunction('convertToInteractive',\n",
       "                                                     [key], {});\n",
       "          if (!dataTable) return;\n",
       "\n",
       "          const docLinkHtml = 'Like what you see? Visit the ' +\n",
       "            '<a target=\"_blank\" href=https://colab.research.google.com/notebooks/data_table.ipynb>data table notebook</a>'\n",
       "            + ' to learn more about interactive tables.';\n",
       "          element.innerHTML = '';\n",
       "          dataTable['output_type'] = 'display_data';\n",
       "          await google.colab.output.renderOutput(dataTable, element);\n",
       "          const docLink = document.createElement('div');\n",
       "          docLink.innerHTML = docLinkHtml;\n",
       "          element.appendChild(docLink);\n",
       "        }\n",
       "      </script>\n",
       "    </div>\n",
       "  </div>\n",
       "  "
      ],
      "text/plain": [
       "          0         1         2         3         4         5         6  \\\n",
       "0  0.032389  0.000000  0.012146  0.028340  0.012146  0.000000  0.000000   \n",
       "1  0.000000  0.060729  0.097166  0.194332  0.052632  0.024291  0.048583   \n",
       "2  0.000000  0.230769  0.036437  0.072874  0.028340  0.004049  0.020243   \n",
       "\n",
       "          7  \n",
       "0  0.016194  \n",
       "1  0.016194  \n",
       "2  0.012146  "
      ]
     },
     "execution_count": 67,
     "metadata": {},
     "output_type": "execute_result"
    }
   ],
   "source": [
    "M_freq=MC/dataAFC.shape[0]\n",
    "M_freq"
   ]
  },
  {
   "cell_type": "markdown",
   "id": "KvqxEm3OKRGA",
   "metadata": {
    "id": "KvqxEm3OKRGA"
   },
   "source": [
    "chaque cellule nous montre la  proportion de l'ensemble de notre matrice que représente chaque modalité de la collone Sexe et Fonction  sur la base de tous nos données."
   ]
  },
  {
   "cell_type": "markdown",
   "id": "g_rO02ifxt4M",
   "metadata": {
    "id": "g_rO02ifxt4M"
   },
   "source": [
    "#### Expected_matrice"
   ]
  },
  {
   "cell_type": "code",
   "execution_count": null,
   "id": "7iO4Vywyc630",
   "metadata": {
    "colab": {
     "base_uri": "https://localhost:8080/"
    },
    "id": "7iO4Vywyc630",
    "outputId": "631e032f-41f7-495d-c150-4e29415c7464"
   },
   "outputs": [
    {
     "data": {
      "text/plain": [
       "array([[ 0.8097166 ,  7.28744939,  3.6437247 ,  7.38866397,  2.32793522,\n",
       "         0.70850202,  1.72064777,  1.11336032],\n",
       "       [ 3.951417  , 35.56275304, 17.78137652, 36.05668016, 11.36032389,\n",
       "         3.45748988,  8.39676113,  5.43319838],\n",
       "       [ 3.2388664 , 29.14979757, 14.57489879, 29.55465587,  9.31174089,\n",
       "         2.8340081 ,  6.88259109,  4.4534413 ]])"
      ]
     },
     "execution_count": 19,
     "metadata": {},
     "output_type": "execute_result"
    }
   ],
   "source": [
    "from scipy.stats.contingency import expected_freq\n",
    "# Sous hypotèse d indipendance entre les le sexe et la fonction c'est quoi la Matrice de distribution \n",
    "expected_matrice=expected_freq(MC)\n",
    "expected_matrice"
   ]
  },
  {
   "cell_type": "markdown",
   "id": "rSXwqPiF299L",
   "metadata": {
    "id": "rSXwqPiF299L"
   },
   "source": [
    "Analyser les relation les relations entre variables et modalités revient à constater un écart a une situation d’uniformité. Cette situation d’unifromité (cas\n",
    "d’indépendance des variables) est exprimée par la matrice d’indépendance\n",
    "qui se calcul simplement avec le produit de la somme marginale des lignes\n",
    "(vecteur colonne) par la somme marginale de colonnes (vecteur ligne)."
   ]
  },
  {
   "cell_type": "markdown",
   "id": "QipY8BLBNnJ5",
   "metadata": {
    "id": "QipY8BLBNnJ5"
   },
   "source": [
    "On calcule la matrice de distribution des correspondances si les deux variables qualitatives sont indépendantes pour avoir une première idée sur le niveau de corrélation de ces deux dernières. On calcule ensuite la matrice R = T – T0 (vue en cours) des écarts entre les données de la matrice de contingence et la matrice de contingence sous hypothèse d'indépendance. On obtient la matrice suivante :"
   ]
  },
  {
   "cell_type": "code",
   "execution_count": null,
   "id": "4a5j_-7OfRL7",
   "metadata": {
    "colab": {
     "base_uri": "https://localhost:8080/",
     "height": 143
    },
    "id": "4a5j_-7OfRL7",
    "outputId": "94e31ab4-8078-4517-f635-efe3dbf89a5c"
   },
   "outputs": [
    {
     "data": {
      "text/html": [
       "\n",
       "  <div id=\"df-fd81b0f0-52e4-4e48-89d7-684b78b92ea1\">\n",
       "    <div class=\"colab-df-container\">\n",
       "      <div>\n",
       "<style scoped>\n",
       "    .dataframe tbody tr th:only-of-type {\n",
       "        vertical-align: middle;\n",
       "    }\n",
       "\n",
       "    .dataframe tbody tr th {\n",
       "        vertical-align: top;\n",
       "    }\n",
       "\n",
       "    .dataframe thead th {\n",
       "        text-align: right;\n",
       "    }\n",
       "</style>\n",
       "<table border=\"1\" class=\"dataframe\">\n",
       "  <thead>\n",
       "    <tr style=\"text-align: right;\">\n",
       "      <th></th>\n",
       "      <th>0</th>\n",
       "      <th>1</th>\n",
       "      <th>2</th>\n",
       "      <th>3</th>\n",
       "      <th>4</th>\n",
       "      <th>5</th>\n",
       "      <th>6</th>\n",
       "      <th>7</th>\n",
       "    </tr>\n",
       "  </thead>\n",
       "  <tbody>\n",
       "    <tr>\n",
       "      <th>0</th>\n",
       "      <td>7.190283</td>\n",
       "      <td>-7.287449</td>\n",
       "      <td>-0.643725</td>\n",
       "      <td>-0.388664</td>\n",
       "      <td>0.672065</td>\n",
       "      <td>-0.708502</td>\n",
       "      <td>-1.720648</td>\n",
       "      <td>2.886640</td>\n",
       "    </tr>\n",
       "    <tr>\n",
       "      <th>1</th>\n",
       "      <td>-3.951417</td>\n",
       "      <td>-20.562753</td>\n",
       "      <td>6.218623</td>\n",
       "      <td>11.943320</td>\n",
       "      <td>1.639676</td>\n",
       "      <td>2.542510</td>\n",
       "      <td>3.603239</td>\n",
       "      <td>-1.433198</td>\n",
       "    </tr>\n",
       "    <tr>\n",
       "      <th>2</th>\n",
       "      <td>-3.238866</td>\n",
       "      <td>27.850202</td>\n",
       "      <td>-5.574899</td>\n",
       "      <td>-11.554656</td>\n",
       "      <td>-2.311741</td>\n",
       "      <td>-1.834008</td>\n",
       "      <td>-1.882591</td>\n",
       "      <td>-1.453441</td>\n",
       "    </tr>\n",
       "  </tbody>\n",
       "</table>\n",
       "</div>\n",
       "      <button class=\"colab-df-convert\" onclick=\"convertToInteractive('df-fd81b0f0-52e4-4e48-89d7-684b78b92ea1')\"\n",
       "              title=\"Convert this dataframe to an interactive table.\"\n",
       "              style=\"display:none;\">\n",
       "        \n",
       "  <svg xmlns=\"http://www.w3.org/2000/svg\" height=\"24px\"viewBox=\"0 0 24 24\"\n",
       "       width=\"24px\">\n",
       "    <path d=\"M0 0h24v24H0V0z\" fill=\"none\"/>\n",
       "    <path d=\"M18.56 5.44l.94 2.06.94-2.06 2.06-.94-2.06-.94-.94-2.06-.94 2.06-2.06.94zm-11 1L8.5 8.5l.94-2.06 2.06-.94-2.06-.94L8.5 2.5l-.94 2.06-2.06.94zm10 10l.94 2.06.94-2.06 2.06-.94-2.06-.94-.94-2.06-.94 2.06-2.06.94z\"/><path d=\"M17.41 7.96l-1.37-1.37c-.4-.4-.92-.59-1.43-.59-.52 0-1.04.2-1.43.59L10.3 9.45l-7.72 7.72c-.78.78-.78 2.05 0 2.83L4 21.41c.39.39.9.59 1.41.59.51 0 1.02-.2 1.41-.59l7.78-7.78 2.81-2.81c.8-.78.8-2.07 0-2.86zM5.41 20L4 18.59l7.72-7.72 1.47 1.35L5.41 20z\"/>\n",
       "  </svg>\n",
       "      </button>\n",
       "      \n",
       "  <style>\n",
       "    .colab-df-container {\n",
       "      display:flex;\n",
       "      flex-wrap:wrap;\n",
       "      gap: 12px;\n",
       "    }\n",
       "\n",
       "    .colab-df-convert {\n",
       "      background-color: #E8F0FE;\n",
       "      border: none;\n",
       "      border-radius: 50%;\n",
       "      cursor: pointer;\n",
       "      display: none;\n",
       "      fill: #1967D2;\n",
       "      height: 32px;\n",
       "      padding: 0 0 0 0;\n",
       "      width: 32px;\n",
       "    }\n",
       "\n",
       "    .colab-df-convert:hover {\n",
       "      background-color: #E2EBFA;\n",
       "      box-shadow: 0px 1px 2px rgba(60, 64, 67, 0.3), 0px 1px 3px 1px rgba(60, 64, 67, 0.15);\n",
       "      fill: #174EA6;\n",
       "    }\n",
       "\n",
       "    [theme=dark] .colab-df-convert {\n",
       "      background-color: #3B4455;\n",
       "      fill: #D2E3FC;\n",
       "    }\n",
       "\n",
       "    [theme=dark] .colab-df-convert:hover {\n",
       "      background-color: #434B5C;\n",
       "      box-shadow: 0px 1px 3px 1px rgba(0, 0, 0, 0.15);\n",
       "      filter: drop-shadow(0px 1px 2px rgba(0, 0, 0, 0.3));\n",
       "      fill: #FFFFFF;\n",
       "    }\n",
       "  </style>\n",
       "\n",
       "      <script>\n",
       "        const buttonEl =\n",
       "          document.querySelector('#df-fd81b0f0-52e4-4e48-89d7-684b78b92ea1 button.colab-df-convert');\n",
       "        buttonEl.style.display =\n",
       "          google.colab.kernel.accessAllowed ? 'block' : 'none';\n",
       "\n",
       "        async function convertToInteractive(key) {\n",
       "          const element = document.querySelector('#df-fd81b0f0-52e4-4e48-89d7-684b78b92ea1');\n",
       "          const dataTable =\n",
       "            await google.colab.kernel.invokeFunction('convertToInteractive',\n",
       "                                                     [key], {});\n",
       "          if (!dataTable) return;\n",
       "\n",
       "          const docLinkHtml = 'Like what you see? Visit the ' +\n",
       "            '<a target=\"_blank\" href=https://colab.research.google.com/notebooks/data_table.ipynb>data table notebook</a>'\n",
       "            + ' to learn more about interactive tables.';\n",
       "          element.innerHTML = '';\n",
       "          dataTable['output_type'] = 'display_data';\n",
       "          await google.colab.output.renderOutput(dataTable, element);\n",
       "          const docLink = document.createElement('div');\n",
       "          docLink.innerHTML = docLinkHtml;\n",
       "          element.appendChild(docLink);\n",
       "        }\n",
       "      </script>\n",
       "    </div>\n",
       "  </div>\n",
       "  "
      ],
      "text/plain": [
       "          0          1         2          3         4         5         6  \\\n",
       "0  7.190283  -7.287449 -0.643725  -0.388664  0.672065 -0.708502 -1.720648   \n",
       "1 -3.951417 -20.562753  6.218623  11.943320  1.639676  2.542510  3.603239   \n",
       "2 -3.238866  27.850202 -5.574899 -11.554656 -2.311741 -1.834008 -1.882591   \n",
       "\n",
       "          7  \n",
       "0  2.886640  \n",
       "1 -1.433198  \n",
       "2 -1.453441  "
      ]
     },
     "execution_count": 20,
     "metadata": {},
     "output_type": "execute_result"
    }
   ],
   "source": [
    "# on calcule Ecart entre les données de la table de contingence et la table de contingence sous hyp. d’indépendance\n",
    "R=MC-expected_matrice\n",
    "R"
   ]
  },
  {
   "cell_type": "markdown",
   "id": "fH20ZqxQfwmF",
   "metadata": {
    "id": "fH20ZqxQfwmF"
   },
   "source": [
    "On remarque que tous les cellules sont différentes de zéro --> pas d'indépendance.  Mais il faut vérifier ce propos avec la statistique du  χ2.\n",
    "\n",
    "\n"
   ]
  },
  {
   "cell_type": "markdown",
   "id": "P5UR1u8sOEQ-",
   "metadata": {
    "id": "P5UR1u8sOEQ-"
   },
   "source": [
    "###    Test du  χ2 : \n"
   ]
  },
  {
   "cell_type": "code",
   "execution_count": null,
   "id": "Zs2ZFda8OJQ2",
   "metadata": {
    "colab": {
     "base_uri": "https://localhost:8080/"
    },
    "id": "Zs2ZFda8OJQ2",
    "outputId": "92d7498c-b23f-4abc-8e7d-929da0e1fd78"
   },
   "outputs": [
    {
     "name": "stdout",
     "output_type": "stream",
     "text": [
      "La statistique du Khi 2 vaut: 14416985.968831966\n"
     ]
    }
   ],
   "source": [
    "total = np.sum(np.sum(MC))\n",
    "freq_ind = pd.DataFrame(expected_matrice / total)\n",
    "khi = 0\n",
    "for i in range(3):\n",
    "   for j in range(n):\n",
    "    khi += ((MC.loc[i,j] - freq_ind.loc[i,j])**2)/freq_ind.loc[i,j]        \n",
    "khi *= total\n",
    "print(\"La statistique du Khi 2 vaut: \" + str(khi))\n"
   ]
  },
  {
   "cell_type": "markdown",
   "id": "tsInNyeOSFXg",
   "metadata": {
    "id": "tsInNyeOSFXg"
   },
   "source": [
    "La statistique du   χ2 vaut : 14416985.968831966\n",
    "L'intensité de liaison  χ2n  est très élevée, on en conclut qu'on a dépendance.\n",
    "En plus, la statistique du  χ2 est d'autant plus grande ce qui veut dire que nos fonctions sont très dépendantes.\n",
    " \n",
    "Ensuite, on construit les profils lignes, les profils colonnes ainsi que les matrices Dn et Dp des marges en lignes et en colonnes :\n"
   ]
  },
  {
   "cell_type": "markdown",
   "id": "45c9fbfd",
   "metadata": {
    "id": "45c9fbfd"
   },
   "source": [
    "#### Profils lignes "
   ]
  },
  {
   "cell_type": "code",
   "execution_count": null,
   "id": "1fc8c0b4",
   "metadata": {
    "colab": {
     "base_uri": "https://localhost:8080/",
     "height": 143
    },
    "id": "1fc8c0b4",
    "outputId": "7094829f-17f1-4d9c-b379-8ba6685fe7d5"
   },
   "outputs": [
    {
     "data": {
      "text/html": [
       "\n",
       "  <div id=\"df-7fcded92-8183-4bff-81ee-6b71fae01229\">\n",
       "    <div class=\"colab-df-container\">\n",
       "      <div>\n",
       "<style scoped>\n",
       "    .dataframe tbody tr th:only-of-type {\n",
       "        vertical-align: middle;\n",
       "    }\n",
       "\n",
       "    .dataframe tbody tr th {\n",
       "        vertical-align: top;\n",
       "    }\n",
       "\n",
       "    .dataframe thead th {\n",
       "        text-align: right;\n",
       "    }\n",
       "</style>\n",
       "<table border=\"1\" class=\"dataframe\">\n",
       "  <thead>\n",
       "    <tr style=\"text-align: right;\">\n",
       "      <th></th>\n",
       "      <th>0</th>\n",
       "    </tr>\n",
       "  </thead>\n",
       "  <tbody>\n",
       "    <tr>\n",
       "      <th>0</th>\n",
       "      <td>25.0</td>\n",
       "    </tr>\n",
       "    <tr>\n",
       "      <th>1</th>\n",
       "      <td>122.0</td>\n",
       "    </tr>\n",
       "    <tr>\n",
       "      <th>2</th>\n",
       "      <td>100.0</td>\n",
       "    </tr>\n",
       "  </tbody>\n",
       "</table>\n",
       "</div>\n",
       "      <button class=\"colab-df-convert\" onclick=\"convertToInteractive('df-7fcded92-8183-4bff-81ee-6b71fae01229')\"\n",
       "              title=\"Convert this dataframe to an interactive table.\"\n",
       "              style=\"display:none;\">\n",
       "        \n",
       "  <svg xmlns=\"http://www.w3.org/2000/svg\" height=\"24px\"viewBox=\"0 0 24 24\"\n",
       "       width=\"24px\">\n",
       "    <path d=\"M0 0h24v24H0V0z\" fill=\"none\"/>\n",
       "    <path d=\"M18.56 5.44l.94 2.06.94-2.06 2.06-.94-2.06-.94-.94-2.06-.94 2.06-2.06.94zm-11 1L8.5 8.5l.94-2.06 2.06-.94-2.06-.94L8.5 2.5l-.94 2.06-2.06.94zm10 10l.94 2.06.94-2.06 2.06-.94-2.06-.94-.94-2.06-.94 2.06-2.06.94z\"/><path d=\"M17.41 7.96l-1.37-1.37c-.4-.4-.92-.59-1.43-.59-.52 0-1.04.2-1.43.59L10.3 9.45l-7.72 7.72c-.78.78-.78 2.05 0 2.83L4 21.41c.39.39.9.59 1.41.59.51 0 1.02-.2 1.41-.59l7.78-7.78 2.81-2.81c.8-.78.8-2.07 0-2.86zM5.41 20L4 18.59l7.72-7.72 1.47 1.35L5.41 20z\"/>\n",
       "  </svg>\n",
       "      </button>\n",
       "      \n",
       "  <style>\n",
       "    .colab-df-container {\n",
       "      display:flex;\n",
       "      flex-wrap:wrap;\n",
       "      gap: 12px;\n",
       "    }\n",
       "\n",
       "    .colab-df-convert {\n",
       "      background-color: #E8F0FE;\n",
       "      border: none;\n",
       "      border-radius: 50%;\n",
       "      cursor: pointer;\n",
       "      display: none;\n",
       "      fill: #1967D2;\n",
       "      height: 32px;\n",
       "      padding: 0 0 0 0;\n",
       "      width: 32px;\n",
       "    }\n",
       "\n",
       "    .colab-df-convert:hover {\n",
       "      background-color: #E2EBFA;\n",
       "      box-shadow: 0px 1px 2px rgba(60, 64, 67, 0.3), 0px 1px 3px 1px rgba(60, 64, 67, 0.15);\n",
       "      fill: #174EA6;\n",
       "    }\n",
       "\n",
       "    [theme=dark] .colab-df-convert {\n",
       "      background-color: #3B4455;\n",
       "      fill: #D2E3FC;\n",
       "    }\n",
       "\n",
       "    [theme=dark] .colab-df-convert:hover {\n",
       "      background-color: #434B5C;\n",
       "      box-shadow: 0px 1px 3px 1px rgba(0, 0, 0, 0.15);\n",
       "      filter: drop-shadow(0px 1px 2px rgba(0, 0, 0, 0.3));\n",
       "      fill: #FFFFFF;\n",
       "    }\n",
       "  </style>\n",
       "\n",
       "      <script>\n",
       "        const buttonEl =\n",
       "          document.querySelector('#df-7fcded92-8183-4bff-81ee-6b71fae01229 button.colab-df-convert');\n",
       "        buttonEl.style.display =\n",
       "          google.colab.kernel.accessAllowed ? 'block' : 'none';\n",
       "\n",
       "        async function convertToInteractive(key) {\n",
       "          const element = document.querySelector('#df-7fcded92-8183-4bff-81ee-6b71fae01229');\n",
       "          const dataTable =\n",
       "            await google.colab.kernel.invokeFunction('convertToInteractive',\n",
       "                                                     [key], {});\n",
       "          if (!dataTable) return;\n",
       "\n",
       "          const docLinkHtml = 'Like what you see? Visit the ' +\n",
       "            '<a target=\"_blank\" href=https://colab.research.google.com/notebooks/data_table.ipynb>data table notebook</a>'\n",
       "            + ' to learn more about interactive tables.';\n",
       "          element.innerHTML = '';\n",
       "          dataTable['output_type'] = 'display_data';\n",
       "          await google.colab.output.renderOutput(dataTable, element);\n",
       "          const docLink = document.createElement('div');\n",
       "          docLink.innerHTML = docLinkHtml;\n",
       "          element.appendChild(docLink);\n",
       "        }\n",
       "      </script>\n",
       "    </div>\n",
       "  </div>\n",
       "  "
      ],
      "text/plain": [
       "       0\n",
       "0   25.0\n",
       "1  122.0\n",
       "2  100.0"
      ]
     },
     "execution_count": 22,
     "metadata": {},
     "output_type": "execute_result"
    }
   ],
   "source": [
    "ligne_totale= np.sum(M_contingence,axis=1)\n",
    "pd.DataFrame(ligne_totale)"
   ]
  },
  {
   "cell_type": "code",
   "execution_count": null,
   "id": "7a1e4918",
   "metadata": {
    "colab": {
     "base_uri": "https://localhost:8080/",
     "height": 143
    },
    "id": "7a1e4918",
    "outputId": "7c9e70d4-159e-4873-8804-a4d27d66843c"
   },
   "outputs": [
    {
     "data": {
      "text/html": [
       "\n",
       "  <div id=\"df-d2b4f18f-feb0-4733-833b-4bfd6dcd4dfe\">\n",
       "    <div class=\"colab-df-container\">\n",
       "      <div>\n",
       "<style scoped>\n",
       "    .dataframe tbody tr th:only-of-type {\n",
       "        vertical-align: middle;\n",
       "    }\n",
       "\n",
       "    .dataframe tbody tr th {\n",
       "        vertical-align: top;\n",
       "    }\n",
       "\n",
       "    .dataframe thead th {\n",
       "        text-align: right;\n",
       "    }\n",
       "</style>\n",
       "<table border=\"1\" class=\"dataframe\">\n",
       "  <thead>\n",
       "    <tr style=\"text-align: right;\">\n",
       "      <th></th>\n",
       "      <th>0</th>\n",
       "      <th>1</th>\n",
       "      <th>2</th>\n",
       "      <th>3</th>\n",
       "      <th>4</th>\n",
       "      <th>5</th>\n",
       "      <th>6</th>\n",
       "      <th>7</th>\n",
       "    </tr>\n",
       "  </thead>\n",
       "  <tbody>\n",
       "    <tr>\n",
       "      <th>0</th>\n",
       "      <td>0.32</td>\n",
       "      <td>0.000000</td>\n",
       "      <td>0.120000</td>\n",
       "      <td>0.280000</td>\n",
       "      <td>0.120000</td>\n",
       "      <td>0.00000</td>\n",
       "      <td>0.000000</td>\n",
       "      <td>0.160000</td>\n",
       "    </tr>\n",
       "    <tr>\n",
       "      <th>1</th>\n",
       "      <td>0.00</td>\n",
       "      <td>0.122951</td>\n",
       "      <td>0.196721</td>\n",
       "      <td>0.393443</td>\n",
       "      <td>0.106557</td>\n",
       "      <td>0.04918</td>\n",
       "      <td>0.098361</td>\n",
       "      <td>0.032787</td>\n",
       "    </tr>\n",
       "    <tr>\n",
       "      <th>2</th>\n",
       "      <td>0.00</td>\n",
       "      <td>0.570000</td>\n",
       "      <td>0.090000</td>\n",
       "      <td>0.180000</td>\n",
       "      <td>0.070000</td>\n",
       "      <td>0.01000</td>\n",
       "      <td>0.050000</td>\n",
       "      <td>0.030000</td>\n",
       "    </tr>\n",
       "  </tbody>\n",
       "</table>\n",
       "</div>\n",
       "      <button class=\"colab-df-convert\" onclick=\"convertToInteractive('df-d2b4f18f-feb0-4733-833b-4bfd6dcd4dfe')\"\n",
       "              title=\"Convert this dataframe to an interactive table.\"\n",
       "              style=\"display:none;\">\n",
       "        \n",
       "  <svg xmlns=\"http://www.w3.org/2000/svg\" height=\"24px\"viewBox=\"0 0 24 24\"\n",
       "       width=\"24px\">\n",
       "    <path d=\"M0 0h24v24H0V0z\" fill=\"none\"/>\n",
       "    <path d=\"M18.56 5.44l.94 2.06.94-2.06 2.06-.94-2.06-.94-.94-2.06-.94 2.06-2.06.94zm-11 1L8.5 8.5l.94-2.06 2.06-.94-2.06-.94L8.5 2.5l-.94 2.06-2.06.94zm10 10l.94 2.06.94-2.06 2.06-.94-2.06-.94-.94-2.06-.94 2.06-2.06.94z\"/><path d=\"M17.41 7.96l-1.37-1.37c-.4-.4-.92-.59-1.43-.59-.52 0-1.04.2-1.43.59L10.3 9.45l-7.72 7.72c-.78.78-.78 2.05 0 2.83L4 21.41c.39.39.9.59 1.41.59.51 0 1.02-.2 1.41-.59l7.78-7.78 2.81-2.81c.8-.78.8-2.07 0-2.86zM5.41 20L4 18.59l7.72-7.72 1.47 1.35L5.41 20z\"/>\n",
       "  </svg>\n",
       "      </button>\n",
       "      \n",
       "  <style>\n",
       "    .colab-df-container {\n",
       "      display:flex;\n",
       "      flex-wrap:wrap;\n",
       "      gap: 12px;\n",
       "    }\n",
       "\n",
       "    .colab-df-convert {\n",
       "      background-color: #E8F0FE;\n",
       "      border: none;\n",
       "      border-radius: 50%;\n",
       "      cursor: pointer;\n",
       "      display: none;\n",
       "      fill: #1967D2;\n",
       "      height: 32px;\n",
       "      padding: 0 0 0 0;\n",
       "      width: 32px;\n",
       "    }\n",
       "\n",
       "    .colab-df-convert:hover {\n",
       "      background-color: #E2EBFA;\n",
       "      box-shadow: 0px 1px 2px rgba(60, 64, 67, 0.3), 0px 1px 3px 1px rgba(60, 64, 67, 0.15);\n",
       "      fill: #174EA6;\n",
       "    }\n",
       "\n",
       "    [theme=dark] .colab-df-convert {\n",
       "      background-color: #3B4455;\n",
       "      fill: #D2E3FC;\n",
       "    }\n",
       "\n",
       "    [theme=dark] .colab-df-convert:hover {\n",
       "      background-color: #434B5C;\n",
       "      box-shadow: 0px 1px 3px 1px rgba(0, 0, 0, 0.15);\n",
       "      filter: drop-shadow(0px 1px 2px rgba(0, 0, 0, 0.3));\n",
       "      fill: #FFFFFF;\n",
       "    }\n",
       "  </style>\n",
       "\n",
       "      <script>\n",
       "        const buttonEl =\n",
       "          document.querySelector('#df-d2b4f18f-feb0-4733-833b-4bfd6dcd4dfe button.colab-df-convert');\n",
       "        buttonEl.style.display =\n",
       "          google.colab.kernel.accessAllowed ? 'block' : 'none';\n",
       "\n",
       "        async function convertToInteractive(key) {\n",
       "          const element = document.querySelector('#df-d2b4f18f-feb0-4733-833b-4bfd6dcd4dfe');\n",
       "          const dataTable =\n",
       "            await google.colab.kernel.invokeFunction('convertToInteractive',\n",
       "                                                     [key], {});\n",
       "          if (!dataTable) return;\n",
       "\n",
       "          const docLinkHtml = 'Like what you see? Visit the ' +\n",
       "            '<a target=\"_blank\" href=https://colab.research.google.com/notebooks/data_table.ipynb>data table notebook</a>'\n",
       "            + ' to learn more about interactive tables.';\n",
       "          element.innerHTML = '';\n",
       "          dataTable['output_type'] = 'display_data';\n",
       "          await google.colab.output.renderOutput(dataTable, element);\n",
       "          const docLink = document.createElement('div');\n",
       "          docLink.innerHTML = docLinkHtml;\n",
       "          element.appendChild(docLink);\n",
       "        }\n",
       "      </script>\n",
       "    </div>\n",
       "  </div>\n",
       "  "
      ],
      "text/plain": [
       "      0         1         2         3         4        5         6         7\n",
       "0  0.32  0.000000  0.120000  0.280000  0.120000  0.00000  0.000000  0.160000\n",
       "1  0.00  0.122951  0.196721  0.393443  0.106557  0.04918  0.098361  0.032787\n",
       "2  0.00  0.570000  0.090000  0.180000  0.070000  0.01000  0.050000  0.030000"
      ]
     },
     "execution_count": 23,
     "metadata": {},
     "output_type": "execute_result"
    }
   ],
   "source": [
    "profil_lignes = np.apply_along_axis(arr=M_contingence,axis=1,func1d=lambda x:x/np.sum(x)) \n",
    "pd.DataFrame(profil_lignes)"
   ]
  },
  {
   "cell_type": "code",
   "execution_count": null,
   "id": "cf5370a3",
   "metadata": {
    "colab": {
     "base_uri": "https://localhost:8080/",
     "height": 268
    },
    "id": "cf5370a3",
    "outputId": "98e89202-dba9-4d5e-a7aa-7c4a5f0d5ed5",
    "scrolled": true
   },
   "outputs": [
    {
     "data": {
      "image/png": "[encoded data removed]",
      "text/plain": [
       "<Figure size 432x288 with 1 Axes>"
      ]
     },
     "metadata": {},
     "output_type": "display_data"
    }
   ],
   "source": [
    "somme = np.zeros(shape=(profil_lignes.shape[0])) \n",
    "for i in range(profil_lignes.shape[1]):\n",
    "    plt.barh(range(profil_lignes.shape[0]),profil_lignes[:,i],left=somme,label=str(i)) \n",
    "    somme = somme + profil_lignes[:,i]\n",
    "    \n",
    "    \n",
    "plt.yticks(range(profil_lignes.shape[0]),['Sexe 0', 'Sexe 1', 'Sexe 2'])\n",
    "plt.legend(bbox_to_anchor = (1.05, 0.6))\n",
    "plt.show()"
   ]
  },
  {
   "cell_type": "markdown",
   "id": "8-6ClprGxWiF",
   "metadata": {
    "id": "8-6ClprGxWiF"
   },
   "source": [
    "ce graphe nous donne une idée sur la proportion de contribution de chaque fonction dans un sexe donné . c'est la fréquence marginale par colonne. On remarque que  pour sexe 2 la fonction 1 est la plus fait par contre pour le sexe 2 la fonction 3 qui prend la grande proportion, et pour le sexe 0les fonctions 0 et 3 sont les plus presente."
   ]
  },
  {
   "cell_type": "markdown",
   "id": "0aa85677",
   "metadata": {
    "id": "0aa85677"
   },
   "source": [
    "#### Profils colonnes "
   ]
  },
  {
   "cell_type": "code",
   "execution_count": null,
   "id": "0dcdac05",
   "metadata": {
    "colab": {
     "base_uri": "https://localhost:8080/",
     "height": 300
    },
    "id": "0dcdac05",
    "outputId": "29da314b-3ef9-451a-c2c6-2576fb7529e7"
   },
   "outputs": [
    {
     "data": {
      "text/html": [
       "\n",
       "  <div id=\"df-9e56d7fa-8d0b-4f5f-a24e-6a82f309d497\">\n",
       "    <div class=\"colab-df-container\">\n",
       "      <div>\n",
       "<style scoped>\n",
       "    .dataframe tbody tr th:only-of-type {\n",
       "        vertical-align: middle;\n",
       "    }\n",
       "\n",
       "    .dataframe tbody tr th {\n",
       "        vertical-align: top;\n",
       "    }\n",
       "\n",
       "    .dataframe thead th {\n",
       "        text-align: right;\n",
       "    }\n",
       "</style>\n",
       "<table border=\"1\" class=\"dataframe\">\n",
       "  <thead>\n",
       "    <tr style=\"text-align: right;\">\n",
       "      <th></th>\n",
       "      <th>0</th>\n",
       "    </tr>\n",
       "  </thead>\n",
       "  <tbody>\n",
       "    <tr>\n",
       "      <th>0</th>\n",
       "      <td>8.0</td>\n",
       "    </tr>\n",
       "    <tr>\n",
       "      <th>1</th>\n",
       "      <td>72.0</td>\n",
       "    </tr>\n",
       "    <tr>\n",
       "      <th>2</th>\n",
       "      <td>36.0</td>\n",
       "    </tr>\n",
       "    <tr>\n",
       "      <th>3</th>\n",
       "      <td>73.0</td>\n",
       "    </tr>\n",
       "    <tr>\n",
       "      <th>4</th>\n",
       "      <td>23.0</td>\n",
       "    </tr>\n",
       "    <tr>\n",
       "      <th>5</th>\n",
       "      <td>7.0</td>\n",
       "    </tr>\n",
       "    <tr>\n",
       "      <th>6</th>\n",
       "      <td>17.0</td>\n",
       "    </tr>\n",
       "    <tr>\n",
       "      <th>7</th>\n",
       "      <td>11.0</td>\n",
       "    </tr>\n",
       "  </tbody>\n",
       "</table>\n",
       "</div>\n",
       "      <button class=\"colab-df-convert\" onclick=\"convertToInteractive('df-9e56d7fa-8d0b-4f5f-a24e-6a82f309d497')\"\n",
       "              title=\"Convert this dataframe to an interactive table.\"\n",
       "              style=\"display:none;\">\n",
       "        \n",
       "  <svg xmlns=\"http://www.w3.org/2000/svg\" height=\"24px\"viewBox=\"0 0 24 24\"\n",
       "       width=\"24px\">\n",
       "    <path d=\"M0 0h24v24H0V0z\" fill=\"none\"/>\n",
       "    <path d=\"M18.56 5.44l.94 2.06.94-2.06 2.06-.94-2.06-.94-.94-2.06-.94 2.06-2.06.94zm-11 1L8.5 8.5l.94-2.06 2.06-.94-2.06-.94L8.5 2.5l-.94 2.06-2.06.94zm10 10l.94 2.06.94-2.06 2.06-.94-2.06-.94-.94-2.06-.94 2.06-2.06.94z\"/><path d=\"M17.41 7.96l-1.37-1.37c-.4-.4-.92-.59-1.43-.59-.52 0-1.04.2-1.43.59L10.3 9.45l-7.72 7.72c-.78.78-.78 2.05 0 2.83L4 21.41c.39.39.9.59 1.41.59.51 0 1.02-.2 1.41-.59l7.78-7.78 2.81-2.81c.8-.78.8-2.07 0-2.86zM5.41 20L4 18.59l7.72-7.72 1.47 1.35L5.41 20z\"/>\n",
       "  </svg>\n",
       "      </button>\n",
       "      \n",
       "  <style>\n",
       "    .colab-df-container {\n",
       "      display:flex;\n",
       "      flex-wrap:wrap;\n",
       "      gap: 12px;\n",
       "    }\n",
       "\n",
       "    .colab-df-convert {\n",
       "      background-color: #E8F0FE;\n",
       "      border: none;\n",
       "      border-radius: 50%;\n",
       "      cursor: pointer;\n",
       "      display: none;\n",
       "      fill: #1967D2;\n",
       "      height: 32px;\n",
       "      padding: 0 0 0 0;\n",
       "      width: 32px;\n",
       "    }\n",
       "\n",
       "    .colab-df-convert:hover {\n",
       "      background-color: #E2EBFA;\n",
       "      box-shadow: 0px 1px 2px rgba(60, 64, 67, 0.3), 0px 1px 3px 1px rgba(60, 64, 67, 0.15);\n",
       "      fill: #174EA6;\n",
       "    }\n",
       "\n",
       "    [theme=dark] .colab-df-convert {\n",
       "      background-color: #3B4455;\n",
       "      fill: #D2E3FC;\n",
       "    }\n",
       "\n",
       "    [theme=dark] .colab-df-convert:hover {\n",
       "      background-color: #434B5C;\n",
       "      box-shadow: 0px 1px 3px 1px rgba(0, 0, 0, 0.15);\n",
       "      filter: drop-shadow(0px 1px 2px rgba(0, 0, 0, 0.3));\n",
       "      fill: #FFFFFF;\n",
       "    }\n",
       "  </style>\n",
       "\n",
       "      <script>\n",
       "        const buttonEl =\n",
       "          document.querySelector('#df-9e56d7fa-8d0b-4f5f-a24e-6a82f309d497 button.colab-df-convert');\n",
       "        buttonEl.style.display =\n",
       "          google.colab.kernel.accessAllowed ? 'block' : 'none';\n",
       "\n",
       "        async function convertToInteractive(key) {\n",
       "          const element = document.querySelector('#df-9e56d7fa-8d0b-4f5f-a24e-6a82f309d497');\n",
       "          const dataTable =\n",
       "            await google.colab.kernel.invokeFunction('convertToInteractive',\n",
       "                                                     [key], {});\n",
       "          if (!dataTable) return;\n",
       "\n",
       "          const docLinkHtml = 'Like what you see? Visit the ' +\n",
       "            '<a target=\"_blank\" href=https://colab.research.google.com/notebooks/data_table.ipynb>data table notebook</a>'\n",
       "            + ' to learn more about interactive tables.';\n",
       "          element.innerHTML = '';\n",
       "          dataTable['output_type'] = 'display_data';\n",
       "          await google.colab.output.renderOutput(dataTable, element);\n",
       "          const docLink = document.createElement('div');\n",
       "          docLink.innerHTML = docLinkHtml;\n",
       "          element.appendChild(docLink);\n",
       "        }\n",
       "      </script>\n",
       "    </div>\n",
       "  </div>\n",
       "  "
      ],
      "text/plain": [
       "      0\n",
       "0   8.0\n",
       "1  72.0\n",
       "2  36.0\n",
       "3  73.0\n",
       "4  23.0\n",
       "5   7.0\n",
       "6  17.0\n",
       "7  11.0"
      ]
     },
     "execution_count": 25,
     "metadata": {},
     "output_type": "execute_result"
    }
   ],
   "source": [
    "colonne_total = np.sum(M_contingence,axis=0)\n",
    "pd.DataFrame(colonne_total )"
   ]
  },
  {
   "cell_type": "code",
   "execution_count": null,
   "id": "6408f1fe",
   "metadata": {
    "colab": {
     "base_uri": "https://localhost:8080/",
     "height": 143
    },
    "id": "6408f1fe",
    "outputId": "46d12ba6-1e68-4c00-c86e-a17158a82aa0"
   },
   "outputs": [
    {
     "data": {
      "text/html": [
       "\n",
       "  <div id=\"df-7b690412-68ae-4b5c-a0b8-0232dba0ee36\">\n",
       "    <div class=\"colab-df-container\">\n",
       "      <div>\n",
       "<style scoped>\n",
       "    .dataframe tbody tr th:only-of-type {\n",
       "        vertical-align: middle;\n",
       "    }\n",
       "\n",
       "    .dataframe tbody tr th {\n",
       "        vertical-align: top;\n",
       "    }\n",
       "\n",
       "    .dataframe thead th {\n",
       "        text-align: right;\n",
       "    }\n",
       "</style>\n",
       "<table border=\"1\" class=\"dataframe\">\n",
       "  <thead>\n",
       "    <tr style=\"text-align: right;\">\n",
       "      <th></th>\n",
       "      <th>0</th>\n",
       "      <th>1</th>\n",
       "      <th>2</th>\n",
       "      <th>3</th>\n",
       "      <th>4</th>\n",
       "      <th>5</th>\n",
       "      <th>6</th>\n",
       "      <th>7</th>\n",
       "    </tr>\n",
       "  </thead>\n",
       "  <tbody>\n",
       "    <tr>\n",
       "      <th>0</th>\n",
       "      <td>1.0</td>\n",
       "      <td>0.000000</td>\n",
       "      <td>0.083333</td>\n",
       "      <td>0.095890</td>\n",
       "      <td>0.130435</td>\n",
       "      <td>0.000000</td>\n",
       "      <td>0.000000</td>\n",
       "      <td>0.363636</td>\n",
       "    </tr>\n",
       "    <tr>\n",
       "      <th>1</th>\n",
       "      <td>0.0</td>\n",
       "      <td>0.208333</td>\n",
       "      <td>0.666667</td>\n",
       "      <td>0.657534</td>\n",
       "      <td>0.565217</td>\n",
       "      <td>0.857143</td>\n",
       "      <td>0.705882</td>\n",
       "      <td>0.363636</td>\n",
       "    </tr>\n",
       "    <tr>\n",
       "      <th>2</th>\n",
       "      <td>0.0</td>\n",
       "      <td>0.791667</td>\n",
       "      <td>0.250000</td>\n",
       "      <td>0.246575</td>\n",
       "      <td>0.304348</td>\n",
       "      <td>0.142857</td>\n",
       "      <td>0.294118</td>\n",
       "      <td>0.272727</td>\n",
       "    </tr>\n",
       "  </tbody>\n",
       "</table>\n",
       "</div>\n",
       "      <button class=\"colab-df-convert\" onclick=\"convertToInteractive('df-7b690412-68ae-4b5c-a0b8-0232dba0ee36')\"\n",
       "              title=\"Convert this dataframe to an interactive table.\"\n",
       "              style=\"display:none;\">\n",
       "        \n",
       "  <svg xmlns=\"http://www.w3.org/2000/svg\" height=\"24px\"viewBox=\"0 0 24 24\"\n",
       "       width=\"24px\">\n",
       "    <path d=\"M0 0h24v24H0V0z\" fill=\"none\"/>\n",
       "    <path d=\"M18.56 5.44l.94 2.06.94-2.06 2.06-.94-2.06-.94-.94-2.06-.94 2.06-2.06.94zm-11 1L8.5 8.5l.94-2.06 2.06-.94-2.06-.94L8.5 2.5l-.94 2.06-2.06.94zm10 10l.94 2.06.94-2.06 2.06-.94-2.06-.94-.94-2.06-.94 2.06-2.06.94z\"/><path d=\"M17.41 7.96l-1.37-1.37c-.4-.4-.92-.59-1.43-.59-.52 0-1.04.2-1.43.59L10.3 9.45l-7.72 7.72c-.78.78-.78 2.05 0 2.83L4 21.41c.39.39.9.59 1.41.59.51 0 1.02-.2 1.41-.59l7.78-7.78 2.81-2.81c.8-.78.8-2.07 0-2.86zM5.41 20L4 18.59l7.72-7.72 1.47 1.35L5.41 20z\"/>\n",
       "  </svg>\n",
       "      </button>\n",
       "      \n",
       "  <style>\n",
       "    .colab-df-container {\n",
       "      display:flex;\n",
       "      flex-wrap:wrap;\n",
       "      gap: 12px;\n",
       "    }\n",
       "\n",
       "    .colab-df-convert {\n",
       "      background-color: #E8F0FE;\n",
       "      border: none;\n",
       "      border-radius: 50%;\n",
       "      cursor: pointer;\n",
       "      display: none;\n",
       "      fill: #1967D2;\n",
       "      height: 32px;\n",
       "      padding: 0 0 0 0;\n",
       "      width: 32px;\n",
       "    }\n",
       "\n",
       "    .colab-df-convert:hover {\n",
       "      background-color: #E2EBFA;\n",
       "      box-shadow: 0px 1px 2px rgba(60, 64, 67, 0.3), 0px 1px 3px 1px rgba(60, 64, 67, 0.15);\n",
       "      fill: #174EA6;\n",
       "    }\n",
       "\n",
       "    [theme=dark] .colab-df-convert {\n",
       "      background-color: #3B4455;\n",
       "      fill: #D2E3FC;\n",
       "    }\n",
       "\n",
       "    [theme=dark] .colab-df-convert:hover {\n",
       "      background-color: #434B5C;\n",
       "      box-shadow: 0px 1px 3px 1px rgba(0, 0, 0, 0.15);\n",
       "      filter: drop-shadow(0px 1px 2px rgba(0, 0, 0, 0.3));\n",
       "      fill: #FFFFFF;\n",
       "    }\n",
       "  </style>\n",
       "\n",
       "      <script>\n",
       "        const buttonEl =\n",
       "          document.querySelector('#df-7b690412-68ae-4b5c-a0b8-0232dba0ee36 button.colab-df-convert');\n",
       "        buttonEl.style.display =\n",
       "          google.colab.kernel.accessAllowed ? 'block' : 'none';\n",
       "\n",
       "        async function convertToInteractive(key) {\n",
       "          const element = document.querySelector('#df-7b690412-68ae-4b5c-a0b8-0232dba0ee36');\n",
       "          const dataTable =\n",
       "            await google.colab.kernel.invokeFunction('convertToInteractive',\n",
       "                                                     [key], {});\n",
       "          if (!dataTable) return;\n",
       "\n",
       "          const docLinkHtml = 'Like what you see? Visit the ' +\n",
       "            '<a target=\"_blank\" href=https://colab.research.google.com/notebooks/data_table.ipynb>data table notebook</a>'\n",
       "            + ' to learn more about interactive tables.';\n",
       "          element.innerHTML = '';\n",
       "          dataTable['output_type'] = 'display_data';\n",
       "          await google.colab.output.renderOutput(dataTable, element);\n",
       "          const docLink = document.createElement('div');\n",
       "          docLink.innerHTML = docLinkHtml;\n",
       "          element.appendChild(docLink);\n",
       "        }\n",
       "      </script>\n",
       "    </div>\n",
       "  </div>\n",
       "  "
      ],
      "text/plain": [
       "     0         1         2         3         4         5         6         7\n",
       "0  1.0  0.000000  0.083333  0.095890  0.130435  0.000000  0.000000  0.363636\n",
       "1  0.0  0.208333  0.666667  0.657534  0.565217  0.857143  0.705882  0.363636\n",
       "2  0.0  0.791667  0.250000  0.246575  0.304348  0.142857  0.294118  0.272727"
      ]
     },
     "execution_count": 26,
     "metadata": {},
     "output_type": "execute_result"
    }
   ],
   "source": [
    "profil_colonne = np.apply_along_axis(arr=M_contingence,axis=0,func1d=lambda x:x/np.sum(x)) \n",
    "pd.DataFrame(profil_colonne )"
   ]
  },
  {
   "cell_type": "code",
   "execution_count": null,
   "id": "48d0003a",
   "metadata": {
    "colab": {
     "base_uri": "https://localhost:8080/",
     "height": 268
    },
    "id": "48d0003a",
    "outputId": "95c34e5a-2b35-45a8-efbb-70ef8b680ab9"
   },
   "outputs": [
    {
     "data": {
      "image/png": "[encoded data removed]",
      "text/plain": [
       "<Figure size 432x288 with 1 Axes>"
      ]
     },
     "metadata": {},
     "output_type": "display_data"
    }
   ],
   "source": [
    "somme = np.zeros(shape=(profil_colonne.shape[1])) \n",
    "for i in range(profil_colonne.shape[0]):\n",
    "    plt.barh(range(profil_colonne.shape[1]),profil_colonne[i,:],left=somme,label=str(i)) \n",
    "    somme = somme + profil_colonne[i,:]\n",
    "    \n",
    "plt.yticks(range(profil_colonne.shape[1]),['Fonc 0', 'Fonc 1', 'Fonc 2','Fonc 3', 'Fonc 4', 'Fonc 5','Fonc 6', 'Fonc 7'])\n",
    "plt.legend(bbox_to_anchor = (1.05, 0.6))\n",
    "plt.show()"
   ]
  },
  {
   "cell_type": "markdown",
   "id": "3irsurLsyuDm",
   "metadata": {
    "id": "3irsurLsyuDm"
   },
   "source": [
    "ce graphe nous donne une idée sur la proportion de contribution de chaque sexe dans une fonction  donnée . c'est la fréquence marginale par ligne. On remarque que pour plusieur fonction il y a des sexes qui sont majoritairement presents par apport a d'autre, par exemple la fonction 0 qui est totalement corrélé avec le sexe 0."
   ]
  },
  {
   "cell_type": "code",
   "execution_count": null,
   "id": "XY7ZR6sgXTUf",
   "metadata": {
    "id": "XY7ZR6sgXTUf"
   },
   "outputs": [],
   "source": [
    "n = MC.shape[0]\n",
    "p = MC.shape[1]\n",
    "\n",
    "Dn = np.zeros((n,n))\n",
    "Dp = np.zeros((p,p))\n",
    "\n",
    "\n",
    "for i in range(n):\n",
    "    Dn[i][i] = ligne_totale[i]\n",
    "    \n",
    "for i in range(p):\n",
    "    Dp[i][i] = colonne_total[i] \n",
    "\n",
    "\n"
   ]
  },
  {
   "cell_type": "code",
   "execution_count": null,
   "id": "7mLbRMgZZsmV",
   "metadata": {
    "colab": {
     "base_uri": "https://localhost:8080/"
    },
    "id": "7mLbRMgZZsmV",
    "outputId": "b635f240-be57-4e9d-ddbc-23677ffd6081"
   },
   "outputs": [
    {
     "data": {
      "text/plain": [
       "array([[ 25.,   0.,   0.],\n",
       "       [  0., 122.,   0.],\n",
       "       [  0.,   0., 100.]])"
      ]
     },
     "execution_count": 29,
     "metadata": {},
     "output_type": "execute_result"
    }
   ],
   "source": [
    "Dn \n"
   ]
  },
  {
   "cell_type": "code",
   "execution_count": null,
   "id": "6jOJus5_ZvP0",
   "metadata": {
    "colab": {
     "base_uri": "https://localhost:8080/"
    },
    "id": "6jOJus5_ZvP0",
    "outputId": "42f52b77-3a1c-4b3d-acaf-3657e6dea901"
   },
   "outputs": [
    {
     "data": {
      "text/plain": [
       "array([[ 8.,  0.,  0.,  0.,  0.,  0.,  0.,  0.],\n",
       "       [ 0., 72.,  0.,  0.,  0.,  0.,  0.,  0.],\n",
       "       [ 0.,  0., 36.,  0.,  0.,  0.,  0.,  0.],\n",
       "       [ 0.,  0.,  0., 73.,  0.,  0.,  0.,  0.],\n",
       "       [ 0.,  0.,  0.,  0., 23.,  0.,  0.,  0.],\n",
       "       [ 0.,  0.,  0.,  0.,  0.,  7.,  0.,  0.],\n",
       "       [ 0.,  0.,  0.,  0.,  0.,  0., 17.,  0.],\n",
       "       [ 0.,  0.,  0.,  0.,  0.,  0.,  0., 11.]])"
      ]
     },
     "execution_count": 30,
     "metadata": {},
     "output_type": "execute_result"
    }
   ],
   "source": [
    "Dp"
   ]
  },
  {
   "cell_type": "markdown",
   "id": "8xH8yWygJ6Fg",
   "metadata": {
    "id": "8xH8yWygJ6Fg"
   },
   "source": [
    "Le rôle de l'AFC permettra de mettre en évidence les différences entre les profils et d'identifier les éventuels contacts entre les sexes et les fonctions."
   ]
  },
  {
   "cell_type": "markdown",
   "id": "32c8bd3c",
   "metadata": {
    "id": "32c8bd3c"
   },
   "source": [
    "####  Les points en 3D avant transformation "
   ]
  },
  {
   "cell_type": "code",
   "execution_count": null,
   "id": "eec01a27",
   "metadata": {
    "colab": {
     "base_uri": "https://localhost:8080/",
     "height": 248
    },
    "id": "eec01a27",
    "outputId": "aae34935-62aa-430d-abe0-9ed94e93b1de"
   },
   "outputs": [
    {
     "data": {
      "image/png": "[encoded data removed]",
      "text/plain": [
       "<Figure size 432x288 with 1 Axes>"
      ]
     },
     "metadata": {},
     "output_type": "display_data"
    }
   ],
   "source": [
    "# On visualise maintenant le nuage des points dans l’espace « Sexe » avant de procéder à la réduction de dimension dans Rp:\n",
    "fig = plt.figure()\n",
    "ax = fig.gca(projection='3d')\n",
    "ax.scatter(np.transpose(M_contingence)[:,0],np.transpose(M_contingence)[:,1],np.transpose(M_contingence)[:,2],zdir='z',s=40,depthshade=True)\n",
    "plt.show()"
   ]
  },
  {
   "cell_type": "markdown",
   "id": "qIicYXcoTO0g",
   "metadata": {
    "id": "qIicYXcoTO0g"
   },
   "source": [
    "Quand on approche la surface recouvrant le nuage de points avec une ellipse, on voit que c’est une ellipse bien définie et plate.\n"
   ]
  },
  {
   "cell_type": "markdown",
   "id": "wjjXG3AxTP1K",
   "metadata": {
    "id": "wjjXG3AxTP1K"
   },
   "source": [
    "La partie d’approximation de la triangulation par une ellipse a été faite sous R, on n’est pas parvenu à bien la coder sous Python.\n",
    " \n",
    "Conclusion : D’après la matrice R des écarts entre les données de la matrice de contingence et la matrice de contingence sous hypothèse d'indépendance, le test du  χ2 et l’approximation du nuage de points par une ellipse, on conclut que la réduction de dimension se fera sans perte d’informations."
   ]
  },
  {
   "cell_type": "markdown",
   "id": "10e82947",
   "metadata": {
    "id": "10e82947"
   },
   "source": [
    "## Question2:"
   ]
  },
  {
   "cell_type": "markdown",
   "id": "90c1b585",
   "metadata": {
    "id": "90c1b585"
   },
   "source": [
    "la réduction et la projection du nuage des points lignes dans l'espace ℝ𝑝 se fait en  diagonalisant la matrice S qui égale à $S=F'{D^-1}_{n}F{D^-1}_{p}$.Pourtant, la matrice S  n'est pas symétrique en générale et du coup il n'est pas toujours diagonalisable pour cette raison on diagonalise la matrice $ A=F'{D^-1}_{n}F$ qui est toujours diagonalisable et aussi elle a même valeur propre que la matrice S. "
   ]
  },
  {
   "cell_type": "code",
   "execution_count": null,
   "id": "4vTstUdzWgyQ",
   "metadata": {
    "colab": {
     "base_uri": "https://localhost:8080/",
     "height": 143
    },
    "id": "4vTstUdzWgyQ",
    "outputId": "71bda6e1-bf3b-4770-e444-23714cf841b5"
   },
   "outputs": [
    {
     "data": {
      "text/html": [
       "\n",
       "  <div id=\"df-b740b536-8733-4447-95f8-842594698d87\">\n",
       "    <div class=\"colab-df-container\">\n",
       "      <div>\n",
       "<style scoped>\n",
       "    .dataframe tbody tr th:only-of-type {\n",
       "        vertical-align: middle;\n",
       "    }\n",
       "\n",
       "    .dataframe tbody tr th {\n",
       "        vertical-align: top;\n",
       "    }\n",
       "\n",
       "    .dataframe thead th {\n",
       "        text-align: right;\n",
       "    }\n",
       "</style>\n",
       "<table border=\"1\" class=\"dataframe\">\n",
       "  <thead>\n",
       "    <tr style=\"text-align: right;\">\n",
       "      <th></th>\n",
       "      <th>0</th>\n",
       "      <th>1</th>\n",
       "      <th>2</th>\n",
       "      <th>3</th>\n",
       "      <th>4</th>\n",
       "      <th>5</th>\n",
       "      <th>6</th>\n",
       "      <th>7</th>\n",
       "    </tr>\n",
       "  </thead>\n",
       "  <tbody>\n",
       "    <tr>\n",
       "      <th>0</th>\n",
       "      <td>0.032389</td>\n",
       "      <td>0.000000</td>\n",
       "      <td>0.012146</td>\n",
       "      <td>0.028340</td>\n",
       "      <td>0.012146</td>\n",
       "      <td>0.000000</td>\n",
       "      <td>0.000000</td>\n",
       "      <td>0.016194</td>\n",
       "    </tr>\n",
       "    <tr>\n",
       "      <th>1</th>\n",
       "      <td>0.000000</td>\n",
       "      <td>0.060729</td>\n",
       "      <td>0.097166</td>\n",
       "      <td>0.194332</td>\n",
       "      <td>0.052632</td>\n",
       "      <td>0.024291</td>\n",
       "      <td>0.048583</td>\n",
       "      <td>0.016194</td>\n",
       "    </tr>\n",
       "    <tr>\n",
       "      <th>2</th>\n",
       "      <td>0.000000</td>\n",
       "      <td>0.230769</td>\n",
       "      <td>0.036437</td>\n",
       "      <td>0.072874</td>\n",
       "      <td>0.028340</td>\n",
       "      <td>0.004049</td>\n",
       "      <td>0.020243</td>\n",
       "      <td>0.012146</td>\n",
       "    </tr>\n",
       "  </tbody>\n",
       "</table>\n",
       "</div>\n",
       "      <button class=\"colab-df-convert\" onclick=\"convertToInteractive('df-b740b536-8733-4447-95f8-842594698d87')\"\n",
       "              title=\"Convert this dataframe to an interactive table.\"\n",
       "              style=\"display:none;\">\n",
       "        \n",
       "  <svg xmlns=\"http://www.w3.org/2000/svg\" height=\"24px\"viewBox=\"0 0 24 24\"\n",
       "       width=\"24px\">\n",
       "    <path d=\"M0 0h24v24H0V0z\" fill=\"none\"/>\n",
       "    <path d=\"M18.56 5.44l.94 2.06.94-2.06 2.06-.94-2.06-.94-.94-2.06-.94 2.06-2.06.94zm-11 1L8.5 8.5l.94-2.06 2.06-.94-2.06-.94L8.5 2.5l-.94 2.06-2.06.94zm10 10l.94 2.06.94-2.06 2.06-.94-2.06-.94-.94-2.06-.94 2.06-2.06.94z\"/><path d=\"M17.41 7.96l-1.37-1.37c-.4-.4-.92-.59-1.43-.59-.52 0-1.04.2-1.43.59L10.3 9.45l-7.72 7.72c-.78.78-.78 2.05 0 2.83L4 21.41c.39.39.9.59 1.41.59.51 0 1.02-.2 1.41-.59l7.78-7.78 2.81-2.81c.8-.78.8-2.07 0-2.86zM5.41 20L4 18.59l7.72-7.72 1.47 1.35L5.41 20z\"/>\n",
       "  </svg>\n",
       "      </button>\n",
       "      \n",
       "  <style>\n",
       "    .colab-df-container {\n",
       "      display:flex;\n",
       "      flex-wrap:wrap;\n",
       "      gap: 12px;\n",
       "    }\n",
       "\n",
       "    .colab-df-convert {\n",
       "      background-color: #E8F0FE;\n",
       "      border: none;\n",
       "      border-radius: 50%;\n",
       "      cursor: pointer;\n",
       "      display: none;\n",
       "      fill: #1967D2;\n",
       "      height: 32px;\n",
       "      padding: 0 0 0 0;\n",
       "      width: 32px;\n",
       "    }\n",
       "\n",
       "    .colab-df-convert:hover {\n",
       "      background-color: #E2EBFA;\n",
       "      box-shadow: 0px 1px 2px rgba(60, 64, 67, 0.3), 0px 1px 3px 1px rgba(60, 64, 67, 0.15);\n",
       "      fill: #174EA6;\n",
       "    }\n",
       "\n",
       "    [theme=dark] .colab-df-convert {\n",
       "      background-color: #3B4455;\n",
       "      fill: #D2E3FC;\n",
       "    }\n",
       "\n",
       "    [theme=dark] .colab-df-convert:hover {\n",
       "      background-color: #434B5C;\n",
       "      box-shadow: 0px 1px 3px 1px rgba(0, 0, 0, 0.15);\n",
       "      filter: drop-shadow(0px 1px 2px rgba(0, 0, 0, 0.3));\n",
       "      fill: #FFFFFF;\n",
       "    }\n",
       "  </style>\n",
       "\n",
       "      <script>\n",
       "        const buttonEl =\n",
       "          document.querySelector('#df-b740b536-8733-4447-95f8-842594698d87 button.colab-df-convert');\n",
       "        buttonEl.style.display =\n",
       "          google.colab.kernel.accessAllowed ? 'block' : 'none';\n",
       "\n",
       "        async function convertToInteractive(key) {\n",
       "          const element = document.querySelector('#df-b740b536-8733-4447-95f8-842594698d87');\n",
       "          const dataTable =\n",
       "            await google.colab.kernel.invokeFunction('convertToInteractive',\n",
       "                                                     [key], {});\n",
       "          if (!dataTable) return;\n",
       "\n",
       "          const docLinkHtml = 'Like what you see? Visit the ' +\n",
       "            '<a target=\"_blank\" href=https://colab.research.google.com/notebooks/data_table.ipynb>data table notebook</a>'\n",
       "            + ' to learn more about interactive tables.';\n",
       "          element.innerHTML = '';\n",
       "          dataTable['output_type'] = 'display_data';\n",
       "          await google.colab.output.renderOutput(dataTable, element);\n",
       "          const docLink = document.createElement('div');\n",
       "          docLink.innerHTML = docLinkHtml;\n",
       "          element.appendChild(docLink);\n",
       "        }\n",
       "      </script>\n",
       "    </div>\n",
       "  </div>\n",
       "  "
      ],
      "text/plain": [
       "          0         1         2         3         4         5         6  \\\n",
       "0  0.032389  0.000000  0.012146  0.028340  0.012146  0.000000  0.000000   \n",
       "1  0.000000  0.060729  0.097166  0.194332  0.052632  0.024291  0.048583   \n",
       "2  0.000000  0.230769  0.036437  0.072874  0.028340  0.004049  0.020243   \n",
       "\n",
       "          7  \n",
       "0  0.016194  \n",
       "1  0.016194  \n",
       "2  0.012146  "
      ]
     },
     "execution_count": 32,
     "metadata": {},
     "output_type": "execute_result"
    }
   ],
   "source": [
    "M_freq"
   ]
  },
  {
   "cell_type": "code",
   "execution_count": null,
   "id": "g8UBh_FqWwIy",
   "metadata": {
    "id": "g8UBh_FqWwIy"
   },
   "outputs": [],
   "source": [
    "A_chapeau = np.transpose(M_freq).dot(np.linalg.inv(Dn).dot(M_freq))\n",
    "A = np.sqrt(np.linalg.inv(Dp)).dot(A_chapeau.dot(np.sqrt(np.linalg.inv(Dp))))\n",
    "AD=pd.DataFrame(A)"
   ]
  },
  {
   "cell_type": "code",
   "execution_count": null,
   "id": "11fcf440",
   "metadata": {
    "colab": {
     "base_uri": "https://localhost:8080/",
     "height": 300
    },
    "id": "11fcf440",
    "outputId": "79b2fdf8-ef70-417a-aae9-a59ff7fd6723"
   },
   "outputs": [
    {
     "data": {
      "text/html": [
       "\n",
       "  <div id=\"df-c2a3faf2-9390-4cb4-9157-0cb09f84b06b\">\n",
       "    <div class=\"colab-df-container\">\n",
       "      <div>\n",
       "<style scoped>\n",
       "    .dataframe tbody tr th:only-of-type {\n",
       "        vertical-align: middle;\n",
       "    }\n",
       "\n",
       "    .dataframe tbody tr th {\n",
       "        vertical-align: top;\n",
       "    }\n",
       "\n",
       "    .dataframe thead th {\n",
       "        text-align: right;\n",
       "    }\n",
       "</style>\n",
       "<table border=\"1\" class=\"dataframe\">\n",
       "  <thead>\n",
       "    <tr style=\"text-align: right;\">\n",
       "      <th></th>\n",
       "      <th>0</th>\n",
       "      <th>1</th>\n",
       "      <th>2</th>\n",
       "      <th>3</th>\n",
       "      <th>4</th>\n",
       "      <th>5</th>\n",
       "      <th>6</th>\n",
       "      <th>7</th>\n",
       "    </tr>\n",
       "  </thead>\n",
       "  <tbody>\n",
       "    <tr>\n",
       "      <th>0</th>\n",
       "      <td>5.245128e-06</td>\n",
       "      <td>0.000000e+00</td>\n",
       "      <td>9.272164e-07</td>\n",
       "      <td>0.000002</td>\n",
       "      <td>1.160028e-06</td>\n",
       "      <td>0.000000e+00</td>\n",
       "      <td>0.000000e+00</td>\n",
       "      <td>2.236530e-06</td>\n",
       "    </tr>\n",
       "    <tr>\n",
       "      <th>1</th>\n",
       "      <td>0.000000e+00</td>\n",
       "      <td>7.816302e-06</td>\n",
       "      <td>2.601621e-06</td>\n",
       "      <td>0.000004</td>\n",
       "      <td>2.250922e-06</td>\n",
       "      <td>9.547740e-07</td>\n",
       "      <td>2.026482e-06</td>\n",
       "      <td>1.282396e-06</td>\n",
       "    </tr>\n",
       "    <tr>\n",
       "      <th>2</th>\n",
       "      <td>9.272164e-07</td>\n",
       "      <td>2.601621e-06</td>\n",
       "      <td>2.682351e-06</td>\n",
       "      <td>0.000004</td>\n",
       "      <td>2.020683e-06</td>\n",
       "      <td>1.311661e-06</td>\n",
       "      <td>1.862250e-06</td>\n",
       "      <td>1.265902e-06</td>\n",
       "    </tr>\n",
       "    <tr>\n",
       "      <th>3</th>\n",
       "      <td>1.519315e-06</td>\n",
       "      <td>3.653960e-06</td>\n",
       "      <td>3.805713e-06</td>\n",
       "      <td>0.000005</td>\n",
       "      <td>2.886040e-06</td>\n",
       "      <td>1.842220e-06</td>\n",
       "      <td>2.615519e-06</td>\n",
       "      <td>1.870499e-06</td>\n",
       "    </tr>\n",
       "    <tr>\n",
       "      <th>4</th>\n",
       "      <td>1.160028e-06</td>\n",
       "      <td>2.250922e-06</td>\n",
       "      <td>2.020683e-06</td>\n",
       "      <td>0.000003</td>\n",
       "      <td>1.592955e-06</td>\n",
       "      <td>9.163264e-07</td>\n",
       "      <td>1.350068e-06</td>\n",
       "      <td>1.150269e-06</td>\n",
       "    </tr>\n",
       "    <tr>\n",
       "      <th>5</th>\n",
       "      <td>0.000000e+00</td>\n",
       "      <td>9.547740e-07</td>\n",
       "      <td>1.311661e-06</td>\n",
       "      <td>0.000002</td>\n",
       "      <td>9.163264e-07</td>\n",
       "      <td>7.143723e-07</td>\n",
       "      <td>9.618865e-07</td>\n",
       "      <td>4.234997e-07</td>\n",
       "    </tr>\n",
       "    <tr>\n",
       "      <th>6</th>\n",
       "      <td>0.000000e+00</td>\n",
       "      <td>2.026482e-06</td>\n",
       "      <td>1.862250e-06</td>\n",
       "      <td>0.000003</td>\n",
       "      <td>1.350068e-06</td>\n",
       "      <td>9.618865e-07</td>\n",
       "      <td>1.379091e-06</td>\n",
       "      <td>6.513869e-07</td>\n",
       "    </tr>\n",
       "    <tr>\n",
       "      <th>7</th>\n",
       "      <td>2.236530e-06</td>\n",
       "      <td>1.282396e-06</td>\n",
       "      <td>1.265902e-06</td>\n",
       "      <td>0.000002</td>\n",
       "      <td>1.150269e-06</td>\n",
       "      <td>4.234997e-07</td>\n",
       "      <td>6.513869e-07</td>\n",
       "      <td>1.283190e-06</td>\n",
       "    </tr>\n",
       "  </tbody>\n",
       "</table>\n",
       "</div>\n",
       "      <button class=\"colab-df-convert\" onclick=\"convertToInteractive('df-c2a3faf2-9390-4cb4-9157-0cb09f84b06b')\"\n",
       "              title=\"Convert this dataframe to an interactive table.\"\n",
       "              style=\"display:none;\">\n",
       "        \n",
       "  <svg xmlns=\"http://www.w3.org/2000/svg\" height=\"24px\"viewBox=\"0 0 24 24\"\n",
       "       width=\"24px\">\n",
       "    <path d=\"M0 0h24v24H0V0z\" fill=\"none\"/>\n",
       "    <path d=\"M18.56 5.44l.94 2.06.94-2.06 2.06-.94-2.06-.94-.94-2.06-.94 2.06-2.06.94zm-11 1L8.5 8.5l.94-2.06 2.06-.94-2.06-.94L8.5 2.5l-.94 2.06-2.06.94zm10 10l.94 2.06.94-2.06 2.06-.94-2.06-.94-.94-2.06-.94 2.06-2.06.94z\"/><path d=\"M17.41 7.96l-1.37-1.37c-.4-.4-.92-.59-1.43-.59-.52 0-1.04.2-1.43.59L10.3 9.45l-7.72 7.72c-.78.78-.78 2.05 0 2.83L4 21.41c.39.39.9.59 1.41.59.51 0 1.02-.2 1.41-.59l7.78-7.78 2.81-2.81c.8-.78.8-2.07 0-2.86zM5.41 20L4 18.59l7.72-7.72 1.47 1.35L5.41 20z\"/>\n",
       "  </svg>\n",
       "      </button>\n",
       "      \n",
       "  <style>\n",
       "    .colab-df-container {\n",
       "      display:flex;\n",
       "      flex-wrap:wrap;\n",
       "      gap: 12px;\n",
       "    }\n",
       "\n",
       "    .colab-df-convert {\n",
       "      background-color: #E8F0FE;\n",
       "      border: none;\n",
       "      border-radius: 50%;\n",
       "      cursor: pointer;\n",
       "      display: none;\n",
       "      fill: #1967D2;\n",
       "      height: 32px;\n",
       "      padding: 0 0 0 0;\n",
       "      width: 32px;\n",
       "    }\n",
       "\n",
       "    .colab-df-convert:hover {\n",
       "      background-color: #E2EBFA;\n",
       "      box-shadow: 0px 1px 2px rgba(60, 64, 67, 0.3), 0px 1px 3px 1px rgba(60, 64, 67, 0.15);\n",
       "      fill: #174EA6;\n",
       "    }\n",
       "\n",
       "    [theme=dark] .colab-df-convert {\n",
       "      background-color: #3B4455;\n",
       "      fill: #D2E3FC;\n",
       "    }\n",
       "\n",
       "    [theme=dark] .colab-df-convert:hover {\n",
       "      background-color: #434B5C;\n",
       "      box-shadow: 0px 1px 3px 1px rgba(0, 0, 0, 0.15);\n",
       "      filter: drop-shadow(0px 1px 2px rgba(0, 0, 0, 0.3));\n",
       "      fill: #FFFFFF;\n",
       "    }\n",
       "  </style>\n",
       "\n",
       "      <script>\n",
       "        const buttonEl =\n",
       "          document.querySelector('#df-c2a3faf2-9390-4cb4-9157-0cb09f84b06b button.colab-df-convert');\n",
       "        buttonEl.style.display =\n",
       "          google.colab.kernel.accessAllowed ? 'block' : 'none';\n",
       "\n",
       "        async function convertToInteractive(key) {\n",
       "          const element = document.querySelector('#df-c2a3faf2-9390-4cb4-9157-0cb09f84b06b');\n",
       "          const dataTable =\n",
       "            await google.colab.kernel.invokeFunction('convertToInteractive',\n",
       "                                                     [key], {});\n",
       "          if (!dataTable) return;\n",
       "\n",
       "          const docLinkHtml = 'Like what you see? Visit the ' +\n",
       "            '<a target=\"_blank\" href=https://colab.research.google.com/notebooks/data_table.ipynb>data table notebook</a>'\n",
       "            + ' to learn more about interactive tables.';\n",
       "          element.innerHTML = '';\n",
       "          dataTable['output_type'] = 'display_data';\n",
       "          await google.colab.output.renderOutput(dataTable, element);\n",
       "          const docLink = document.createElement('div');\n",
       "          docLink.innerHTML = docLinkHtml;\n",
       "          element.appendChild(docLink);\n",
       "        }\n",
       "      </script>\n",
       "    </div>\n",
       "  </div>\n",
       "  "
      ],
      "text/plain": [
       "              0             1             2         3             4  \\\n",
       "0  5.245128e-06  0.000000e+00  9.272164e-07  0.000002  1.160028e-06   \n",
       "1  0.000000e+00  7.816302e-06  2.601621e-06  0.000004  2.250922e-06   \n",
       "2  9.272164e-07  2.601621e-06  2.682351e-06  0.000004  2.020683e-06   \n",
       "3  1.519315e-06  3.653960e-06  3.805713e-06  0.000005  2.886040e-06   \n",
       "4  1.160028e-06  2.250922e-06  2.020683e-06  0.000003  1.592955e-06   \n",
       "5  0.000000e+00  9.547740e-07  1.311661e-06  0.000002  9.163264e-07   \n",
       "6  0.000000e+00  2.026482e-06  1.862250e-06  0.000003  1.350068e-06   \n",
       "7  2.236530e-06  1.282396e-06  1.265902e-06  0.000002  1.150269e-06   \n",
       "\n",
       "              5             6             7  \n",
       "0  0.000000e+00  0.000000e+00  2.236530e-06  \n",
       "1  9.547740e-07  2.026482e-06  1.282396e-06  \n",
       "2  1.311661e-06  1.862250e-06  1.265902e-06  \n",
       "3  1.842220e-06  2.615519e-06  1.870499e-06  \n",
       "4  9.163264e-07  1.350068e-06  1.150269e-06  \n",
       "5  7.143723e-07  9.618865e-07  4.234997e-07  \n",
       "6  9.618865e-07  1.379091e-06  6.513869e-07  \n",
       "7  4.234997e-07  6.513869e-07  1.283190e-06  "
      ]
     },
     "execution_count": 59,
     "metadata": {},
     "output_type": "execute_result"
    }
   ],
   "source": [
    "AD"
   ]
  },
  {
   "cell_type": "markdown",
   "id": "9Z9UYyUoae_i",
   "metadata": {
    "id": "9Z9UYyUoae_i"
   },
   "source": [
    "Cette fois-ci, la matrice est bien symétrique. En plus, elle a les mêmes valeurs propres de S, et une simple relation linéaire nous permet de remonter aux vecteurs propres de S."
   ]
  },
  {
   "cell_type": "markdown",
   "id": "NEnu4ZC0WC0D",
   "metadata": {
    "id": "NEnu4ZC0WC0D"
   },
   "source": [
    "On voit bien que cette matrice est réelle mais pas symétrique donc non diagonalisable. On va utiliser, par conséquent, le complément de cours pour la transformer en matrice diagonalisable :"
   ]
  },
  {
   "cell_type": "code",
   "execution_count": null,
   "id": "4f6d7b8e",
   "metadata": {
    "id": "4f6d7b8e"
   },
   "outputs": [],
   "source": [
    "def A_Hyperplan(MC,k=8):\n",
    "  print(0)\n",
    "  n = MC.shape[0]\n",
    "  p = MC.shape[1]\n",
    "  \n",
    "  diag_matrix_n = np.zeros((n, n))\n",
    "  diag_matrix_p = np.zeros((p, p))\n",
    "  for i in range(0, n):\n",
    "    diag_matrix_n[(i, i)] = np.sum(MC[i,:])\n",
    "  for j in range(0, p):\n",
    "    diag_matrix_p[(j, j)] = np.sum(MC[:,j])    \n",
    "  Dn = np.linalg.inv(diag_matrix_n)\n",
    "  Dp = np.linalg.inv(diag_matrix_p)\n",
    "  Dp_r=np.sqrt(Dp)\n",
    "  A_bar=np.linalg.multi_dot([np.transpose(MC), Dn, MC])\n",
    "  A = np.linalg.multi_dot([Dp_r,  A_bar, Dp_r])\n",
    "  vp, vectp = np.linalg.eig(A)\n",
    "  vectp=np.dot(np.sqrt(diag_matrix_p),vectp)\n",
    "  idx =  vp.argsort()[::-1]   \n",
    "  vp_sorted =  vp[idx]\n",
    "  vectp_sorted = vectp[:,idx]\n",
    "\n",
    "  return vp_sorted[:k],vectp_sorted[:,:k] "
   ]
  },
  {
   "cell_type": "code",
   "execution_count": null,
   "id": "qzyuAf59veH8",
   "metadata": {
    "colab": {
     "base_uri": "https://localhost:8080/"
    },
    "id": "qzyuAf59veH8",
    "outputId": "eba80eb9-5782-448a-b2fd-15eecaf384c2"
   },
   "outputs": [
    {
     "name": "stdout",
     "output_type": "stream",
     "text": [
      "0\n"
     ]
    },
    {
     "data": {
      "text/plain": [
       "(array([ 1.00000000e+00,  2.67981227e-01,  4.00667343e-02,  6.09154084e-17,\n",
       "         2.27318533e-17,  1.57883767e-17, -5.51988726e-18, -1.85989763e-17]),\n",
       " array([[ 1.04209757e-03,  2.81857619e-03, -4.82526427e-04,\n",
       "         -1.35094250e-03, -6.10253227e-04,  4.09668621e-04,\n",
       "         -3.44521515e-04,  9.70078253e-05],\n",
       "        [ 1.93476520e-03, -1.62520345e-03, -3.67656027e-03,\n",
       "         -5.85153065e-04, -4.89977126e-04,  5.37549348e-04,\n",
       "         -1.68634321e-04,  1.11705879e-04],\n",
       "        [ 1.54858596e-03, -4.04446442e-04,  9.98467277e-04,\n",
       "         -5.90127954e-06, -2.67220863e-03,  1.55665391e-03,\n",
       "         -2.38472659e-03,  1.38676735e-03],\n",
       "        [ 2.21810163e-03, -4.51408993e-04,  1.38237398e-03,\n",
       "          2.75448961e-04,  2.07699657e-03, -1.12459317e-03,\n",
       "          3.41437601e-03, -3.96708660e-03],\n",
       "        [ 1.25253125e-03, -7.81144558e-05,  3.23608201e-04,\n",
       "          6.87622700e-04,  7.48142001e-04, -2.80932430e-03,\n",
       "          7.91102146e-04,  2.38011018e-04],\n",
       "        [ 6.69600393e-04, -4.16097503e-04,  9.38703652e-04,\n",
       "         -6.86900363e-04, -9.32599460e-04,  1.11061439e-03,\n",
       "         -4.72636071e-04,  1.05026601e-03],\n",
       "        [ 1.01939765e-03, -6.81375192e-04,  7.05325022e-04,\n",
       "         -8.87183613e-04,  7.88256329e-04,  1.57929257e-04,\n",
       "         -8.73621062e-04,  5.80094147e-04],\n",
       "        [ 9.55206598e-04,  8.38069844e-04, -1.89391441e-04,\n",
       "          2.55300916e-03,  1.09164354e-03,  1.61501936e-04,\n",
       "          3.86613977e-05,  5.03234375e-04]]))"
      ]
     },
     "execution_count": 79,
     "metadata": {},
     "output_type": "execute_result"
    }
   ],
   "source": [
    "A_Hyperplan(A)"
   ]
  },
  {
   "cell_type": "code",
   "execution_count": null,
   "id": "wzRyzX7xUHl2",
   "metadata": {
    "colab": {
     "base_uri": "https://localhost:8080/",
     "height": 301
    },
    "id": "wzRyzX7xUHl2",
    "outputId": "43f80901-7cec-4b1b-9d39-b358e1ff3174"
   },
   "outputs": [
    {
     "name": "stdout",
     "output_type": "stream",
     "text": [
      "0\n"
     ]
    },
    {
     "data": {
      "image/png": "[encoded data removed]",
      "text/plain": [
       "<Figure size 432x288 with 1 Axes>"
      ]
     },
     "metadata": {},
     "output_type": "display_data"
    }
   ],
   "source": [
    "# la cascade des valeurs propres\n",
    "VP, VecP=A_Hyperplan(A,k=8)\n",
    "n,m = MC.shape    \n",
    "plt.plot(np.arange(m),sorted(VP, reverse=True),'o-')\n",
    "plt.title(\"Cascade des valeurs propres \")\n",
    "plt.ylabel(\" Vals propres\")\n",
    "plt.show() "
   ]
  },
  {
   "cell_type": "markdown",
   "id": "5qtdrIz5gUQ6",
   "metadata": {
    "id": "5qtdrIz5gUQ6"
   },
   "source": [
    "D’après le graphe de la cascade des valeurs propres ainsi que le tableau des valeurs propres, on choisit les deux premières valeurs propres qui sont plus prépondérantes que le reste. Ensuite, on calcule les nouvelles coordonnées des individus dans le nouveau plan factoriel et on représente le tout."
   ]
  },
  {
   "cell_type": "markdown",
   "id": "d36a38cd",
   "metadata": {
    "id": "d36a38cd"
   },
   "source": [
    "On calcule les cordinnées factorielles qui égale à $\\phi_{\\alpha}={D^-1}_{n}F{D^-1}_{p}u_{\\alpha}$"
   ]
  },
  {
   "cell_type": "code",
   "execution_count": null,
   "id": "57826538",
   "metadata": {
    "id": "57826538"
   },
   "outputs": [],
   "source": [
    "def cordonne_nouveau(MF):\n",
    "\n",
    "    n = MF.shape[0]\n",
    "    p = MF.shape[1]\n",
    "    diag_matrix_n = np.zeros((n, n))\n",
    "    diag_matrix_p = np.zeros((p, p))\n",
    "    \n",
    "    vp, vectp = A_Hyperplan(MF, MF.shape[1])\n",
    "    for i in range(0, n):\n",
    "        diag_matrix_n[(i, i)] = np.sum(MF[i,:])\n",
    "    for j in range(0, p):\n",
    "        diag_matrix_p[(j, j)] = np.sum(MF[:,j])\n",
    "    \n",
    "    Dn = np.linalg.inv(diag_matrix_n)\n",
    "    Dp = np.linalg.inv(diag_matrix_p)\n",
    "    \n",
    "    \n",
    "    return np.linalg.multi_dot([ Dn, MF, Dp, vectp]),vp"
   ]
  },
  {
   "cell_type": "code",
   "execution_count": null,
   "id": "72439771",
   "metadata": {
    "colab": {
     "base_uri": "https://localhost:8080/"
    },
    "id": "72439771",
    "outputId": "389862b1-b8c5-4127-9815-5973d6558f37"
   },
   "outputs": [
    {
     "name": "stdout",
     "output_type": "stream",
     "text": [
      "0\n"
     ]
    }
   ],
   "source": [
    "AFC,vp=cordonne_nouveau(A)"
   ]
  },
  {
   "cell_type": "markdown",
   "id": "0f47ba1d",
   "metadata": {
    "id": "0f47ba1d"
   },
   "source": [
    "## Question3:  "
   ]
  },
  {
   "cell_type": "markdown",
   "id": "fb315316",
   "metadata": {
    "id": "fb315316"
   },
   "source": [
    "Présentation des points dans l'espace réduit"
   ]
  },
  {
   "cell_type": "code",
   "execution_count": null,
   "id": "9e41f1bc",
   "metadata": {
    "colab": {
     "base_uri": "https://localhost:8080/",
     "height": 248
    },
    "id": "9e41f1bc",
    "outputId": "4b240e20-fbd0-484b-ddad-edf822ae92c2"
   },
   "outputs": [
    {
     "data": {
      "image/png": "[encoded data removed]",
      "text/plain": [
       "<Figure size 432x288 with 1 Axes>"
      ]
     },
     "metadata": {},
     "output_type": "display_data"
    }
   ],
   "source": [
    "fig = plt.figure()\n",
    "ax = fig.gca(projection='3d')\n",
    "ax.scatter(AFC[:,1],AFC[:,2],zdir='z',s=40,depthshade=True)\n",
    "plt.show()"
   ]
  },
  {
   "cell_type": "code",
   "execution_count": null,
   "id": "iSSinGwwyKj0",
   "metadata": {
    "colab": {
     "base_uri": "https://localhost:8080/",
     "height": 284
    },
    "id": "iSSinGwwyKj0",
    "outputId": "51618200-9cc8-41f7-a456-9c4909d9f36f"
   },
   "outputs": [
    {
     "data": {
      "image/png": "[encoded data removed]",
      "text/plain": [
       "<Figure size 432x288 with 1 Axes>"
      ]
     },
     "metadata": {},
     "output_type": "display_data"
    }
   ],
   "source": [
    "noms = [\"Non répondu\",\"Homme\",\"Femme\"]\n",
    "plt.scatter(AFC[:,1],AFC[:,2])\n",
    "plt.grid()\n",
    "plt.title(\"Représentation des fonctions dans le nouveau plan factoriel\")\n",
    "plt.show()"
   ]
  },
  {
   "cell_type": "code",
   "execution_count": null,
   "id": "WXV2PpxgzN6L",
   "metadata": {
    "id": "WXV2PpxgzN6L"
   },
   "outputs": [],
   "source": [
    "# Les nouvelles coordonées dans l'espace factoriel réduit \n",
    "\n",
    "\n",
    "nouvelles_coord1 = np.sqrt(Dp).dot(VecP[0])\n",
    "nouvelle_coord2 = np.sqrt(Dp).dot(VecP[1])\n",
    "\n",
    "axe1 = M_freq.dot(nouvelles_coord1)\n",
    "axe2 = -M_freq.dot(nouvelle_coord2)\n",
    "\n",
    "nouvelles_coord = pd.DataFrame([axe1, axe2])\n",
    "nouvelles_coord = np.transpose(nouvelles_coord)\n",
    "nouvelles_coord.columns = [\"Axe 1\", \"Axe 2\"]\n",
    "\n",
    "nouvelles_coord = nouvelles_coord.transpose()\n",
    "nouvelles_coord.columns = [\"Non répondu\",\"Homme\",\"Femme\"]\n",
    "nouvelles_coord = nouvelles_coord.transpose()\n"
   ]
  },
  {
   "cell_type": "code",
   "execution_count": null,
   "id": "45dIo3SvzPqS",
   "metadata": {
    "colab": {
     "base_uri": "https://localhost:8080/",
     "height": 284
    },
    "id": "45dIo3SvzPqS",
    "outputId": "593aa943-f2b4-473e-e04b-6b7e0e4ea8ba"
   },
   "outputs": [
    {
     "data": {
      "image/png": "[encoded data removed]",
      "text/plain": [
       "<Figure size 432x288 with 1 Axes>"
      ]
     },
     "metadata": {},
     "output_type": "display_data"
    }
   ],
   "source": [
    "\n",
    "# Visualisation du nuage dans l'espace factoriel réduit\n",
    "\n",
    "noms = [\"Non répondu\",\"Homme\",\"Femme\"]\n",
    "plt.scatter(nouvelles_coord.loc[:,\"Axe 1\"],nouvelles_coord.loc[:,\"Axe 2\"])\n",
    "plt.grid()\n",
    "plt.title(\"Représentation des fonctions dans le nouveau plan factoriel\")\n",
    "for i in range(3):\n",
    "    plt.annotate(noms[i],(nouvelles_coord.loc[noms[i],\"Axe 1\"],nouvelles_coord.loc[noms[i],\"Axe 2\"]))\n",
    "plt.show()"
   ]
  },
  {
   "cell_type": "code",
   "execution_count": null,
   "id": "DL9SzpI259bE",
   "metadata": {
    "colab": {
     "base_uri": "https://localhost:8080/",
     "height": 143
    },
    "id": "DL9SzpI259bE",
    "outputId": "5388bd07-1f98-43c9-8fd7-1e0fc2753238"
   },
   "outputs": [
    {
     "data": {
      "text/html": [
       "\n",
       "  <div id=\"df-6749ba61-ff7d-4d96-a04d-10ce71a05269\">\n",
       "    <div class=\"colab-df-container\">\n",
       "      <div>\n",
       "<style scoped>\n",
       "    .dataframe tbody tr th:only-of-type {\n",
       "        vertical-align: middle;\n",
       "    }\n",
       "\n",
       "    .dataframe tbody tr th {\n",
       "        vertical-align: top;\n",
       "    }\n",
       "\n",
       "    .dataframe thead th {\n",
       "        text-align: right;\n",
       "    }\n",
       "</style>\n",
       "<table border=\"1\" class=\"dataframe\">\n",
       "  <thead>\n",
       "    <tr style=\"text-align: right;\">\n",
       "      <th></th>\n",
       "      <th>Axe 1</th>\n",
       "      <th>Axe 2</th>\n",
       "    </tr>\n",
       "  </thead>\n",
       "  <tbody>\n",
       "    <tr>\n",
       "      <th>Non répondu</th>\n",
       "      <td>-0.000297</td>\n",
       "      <td>0.000255</td>\n",
       "    </tr>\n",
       "    <tr>\n",
       "      <th>Homme</th>\n",
       "      <td>-0.001263</td>\n",
       "      <td>0.004069</td>\n",
       "    </tr>\n",
       "    <tr>\n",
       "      <th>Femme</th>\n",
       "      <td>0.004469</td>\n",
       "      <td>0.004421</td>\n",
       "    </tr>\n",
       "  </tbody>\n",
       "</table>\n",
       "</div>\n",
       "      <button class=\"colab-df-convert\" onclick=\"convertToInteractive('df-6749ba61-ff7d-4d96-a04d-10ce71a05269')\"\n",
       "              title=\"Convert this dataframe to an interactive table.\"\n",
       "              style=\"display:none;\">\n",
       "        \n",
       "  <svg xmlns=\"http://www.w3.org/2000/svg\" height=\"24px\"viewBox=\"0 0 24 24\"\n",
       "       width=\"24px\">\n",
       "    <path d=\"M0 0h24v24H0V0z\" fill=\"none\"/>\n",
       "    <path d=\"M18.56 5.44l.94 2.06.94-2.06 2.06-.94-2.06-.94-.94-2.06-.94 2.06-2.06.94zm-11 1L8.5 8.5l.94-2.06 2.06-.94-2.06-.94L8.5 2.5l-.94 2.06-2.06.94zm10 10l.94 2.06.94-2.06 2.06-.94-2.06-.94-.94-2.06-.94 2.06-2.06.94z\"/><path d=\"M17.41 7.96l-1.37-1.37c-.4-.4-.92-.59-1.43-.59-.52 0-1.04.2-1.43.59L10.3 9.45l-7.72 7.72c-.78.78-.78 2.05 0 2.83L4 21.41c.39.39.9.59 1.41.59.51 0 1.02-.2 1.41-.59l7.78-7.78 2.81-2.81c.8-.78.8-2.07 0-2.86zM5.41 20L4 18.59l7.72-7.72 1.47 1.35L5.41 20z\"/>\n",
       "  </svg>\n",
       "      </button>\n",
       "      \n",
       "  <style>\n",
       "    .colab-df-container {\n",
       "      display:flex;\n",
       "      flex-wrap:wrap;\n",
       "      gap: 12px;\n",
       "    }\n",
       "\n",
       "    .colab-df-convert {\n",
       "      background-color: #E8F0FE;\n",
       "      border: none;\n",
       "      border-radius: 50%;\n",
       "      cursor: pointer;\n",
       "      display: none;\n",
       "      fill: #1967D2;\n",
       "      height: 32px;\n",
       "      padding: 0 0 0 0;\n",
       "      width: 32px;\n",
       "    }\n",
       "\n",
       "    .colab-df-convert:hover {\n",
       "      background-color: #E2EBFA;\n",
       "      box-shadow: 0px 1px 2px rgba(60, 64, 67, 0.3), 0px 1px 3px 1px rgba(60, 64, 67, 0.15);\n",
       "      fill: #174EA6;\n",
       "    }\n",
       "\n",
       "    [theme=dark] .colab-df-convert {\n",
       "      background-color: #3B4455;\n",
       "      fill: #D2E3FC;\n",
       "    }\n",
       "\n",
       "    [theme=dark] .colab-df-convert:hover {\n",
       "      background-color: #434B5C;\n",
       "      box-shadow: 0px 1px 3px 1px rgba(0, 0, 0, 0.15);\n",
       "      filter: drop-shadow(0px 1px 2px rgba(0, 0, 0, 0.3));\n",
       "      fill: #FFFFFF;\n",
       "    }\n",
       "  </style>\n",
       "\n",
       "      <script>\n",
       "        const buttonEl =\n",
       "          document.querySelector('#df-6749ba61-ff7d-4d96-a04d-10ce71a05269 button.colab-df-convert');\n",
       "        buttonEl.style.display =\n",
       "          google.colab.kernel.accessAllowed ? 'block' : 'none';\n",
       "\n",
       "        async function convertToInteractive(key) {\n",
       "          const element = document.querySelector('#df-6749ba61-ff7d-4d96-a04d-10ce71a05269');\n",
       "          const dataTable =\n",
       "            await google.colab.kernel.invokeFunction('convertToInteractive',\n",
       "                                                     [key], {});\n",
       "          if (!dataTable) return;\n",
       "\n",
       "          const docLinkHtml = 'Like what you see? Visit the ' +\n",
       "            '<a target=\"_blank\" href=https://colab.research.google.com/notebooks/data_table.ipynb>data table notebook</a>'\n",
       "            + ' to learn more about interactive tables.';\n",
       "          element.innerHTML = '';\n",
       "          dataTable['output_type'] = 'display_data';\n",
       "          await google.colab.output.renderOutput(dataTable, element);\n",
       "          const docLink = document.createElement('div');\n",
       "          docLink.innerHTML = docLinkHtml;\n",
       "          element.appendChild(docLink);\n",
       "        }\n",
       "      </script>\n",
       "    </div>\n",
       "  </div>\n",
       "  "
      ],
      "text/plain": [
       "                Axe 1     Axe 2\n",
       "Non répondu -0.000297  0.000255\n",
       "Homme       -0.001263  0.004069\n",
       "Femme        0.004469  0.004421"
      ]
     },
     "execution_count": 121,
     "metadata": {},
     "output_type": "execute_result"
    }
   ],
   "source": [
    "nouvelles_coord"
   ]
  },
  {
   "cell_type": "markdown",
   "id": "53d33c05",
   "metadata": {
    "id": "53d33c05"
   },
   "source": [
    "## Question4: "
   ]
  },
  {
   "cell_type": "markdown",
   "id": "0390f879",
   "metadata": {
    "id": "0390f879"
   },
   "source": [
    "La qualité de projection"
   ]
  },
  {
   "cell_type": "markdown",
   "id": "9c50fde8",
   "metadata": {
    "id": "9c50fde8"
   },
   "source": [
    "Après la diagonalisation et la détermination des valeurs et vecteurs propres, on calcul la qualité individuelle $ q_{i,k} = \\frac{\\sum_{j=1}^{k} (c_{j}^k)^2}{\\sum_{j=1}^{p} (c_{j}^k)^2}$ pour les nouvelles cordonnées des variables. "
   ]
  },
  {
   "cell_type": "code",
   "execution_count": null,
   "id": "eb11d698",
   "metadata": {
    "id": "eb11d698"
   },
   "outputs": [],
   "source": [
    "def Qualite_matrix(M):\n",
    "    Qualite_matrix = np.dot(np.multiply(M, M), np.triu(np.ones((M.shape[1],M.shape[1]))))  \n",
    "    Qualite_matrix = np.multiply(Qualite_matrix, np.divide(1.0, Qualite_matrix[:,-1:]))   \n",
    "    return Qualite_matrix"
   ]
  },
  {
   "cell_type": "code",
   "execution_count": null,
   "id": "d9184677",
   "metadata": {
    "colab": {
     "base_uri": "https://localhost:8080/",
     "height": 143
    },
    "id": "d9184677",
    "outputId": "d4db4647-27df-4de9-99c7-7d6d24e380ef"
   },
   "outputs": [
    {
     "data": {
      "text/html": [
       "\n",
       "  <div id=\"df-cec0a3c0-0637-4053-bbf7-22fdabf65748\">\n",
       "    <div class=\"colab-df-container\">\n",
       "      <div>\n",
       "<style scoped>\n",
       "    .dataframe tbody tr th:only-of-type {\n",
       "        vertical-align: middle;\n",
       "    }\n",
       "\n",
       "    .dataframe tbody tr th {\n",
       "        vertical-align: top;\n",
       "    }\n",
       "\n",
       "    .dataframe thead th {\n",
       "        text-align: right;\n",
       "    }\n",
       "</style>\n",
       "<table border=\"1\" class=\"dataframe\">\n",
       "  <thead>\n",
       "    <tr style=\"text-align: right;\">\n",
       "      <th></th>\n",
       "      <th>0</th>\n",
       "      <th>1</th>\n",
       "    </tr>\n",
       "  </thead>\n",
       "  <tbody>\n",
       "    <tr>\n",
       "      <th>0</th>\n",
       "      <td>0.576058</td>\n",
       "      <td>1.0</td>\n",
       "    </tr>\n",
       "    <tr>\n",
       "      <th>1</th>\n",
       "      <td>0.087924</td>\n",
       "      <td>1.0</td>\n",
       "    </tr>\n",
       "    <tr>\n",
       "      <th>2</th>\n",
       "      <td>0.505423</td>\n",
       "      <td>1.0</td>\n",
       "    </tr>\n",
       "  </tbody>\n",
       "</table>\n",
       "</div>\n",
       "      <button class=\"colab-df-convert\" onclick=\"convertToInteractive('df-cec0a3c0-0637-4053-bbf7-22fdabf65748')\"\n",
       "              title=\"Convert this dataframe to an interactive table.\"\n",
       "              style=\"display:none;\">\n",
       "        \n",
       "  <svg xmlns=\"http://www.w3.org/2000/svg\" height=\"24px\"viewBox=\"0 0 24 24\"\n",
       "       width=\"24px\">\n",
       "    <path d=\"M0 0h24v24H0V0z\" fill=\"none\"/>\n",
       "    <path d=\"M18.56 5.44l.94 2.06.94-2.06 2.06-.94-2.06-.94-.94-2.06-.94 2.06-2.06.94zm-11 1L8.5 8.5l.94-2.06 2.06-.94-2.06-.94L8.5 2.5l-.94 2.06-2.06.94zm10 10l.94 2.06.94-2.06 2.06-.94-2.06-.94-.94-2.06-.94 2.06-2.06.94z\"/><path d=\"M17.41 7.96l-1.37-1.37c-.4-.4-.92-.59-1.43-.59-.52 0-1.04.2-1.43.59L10.3 9.45l-7.72 7.72c-.78.78-.78 2.05 0 2.83L4 21.41c.39.39.9.59 1.41.59.51 0 1.02-.2 1.41-.59l7.78-7.78 2.81-2.81c.8-.78.8-2.07 0-2.86zM5.41 20L4 18.59l7.72-7.72 1.47 1.35L5.41 20z\"/>\n",
       "  </svg>\n",
       "      </button>\n",
       "      \n",
       "  <style>\n",
       "    .colab-df-container {\n",
       "      display:flex;\n",
       "      flex-wrap:wrap;\n",
       "      gap: 12px;\n",
       "    }\n",
       "\n",
       "    .colab-df-convert {\n",
       "      background-color: #E8F0FE;\n",
       "      border: none;\n",
       "      border-radius: 50%;\n",
       "      cursor: pointer;\n",
       "      display: none;\n",
       "      fill: #1967D2;\n",
       "      height: 32px;\n",
       "      padding: 0 0 0 0;\n",
       "      width: 32px;\n",
       "    }\n",
       "\n",
       "    .colab-df-convert:hover {\n",
       "      background-color: #E2EBFA;\n",
       "      box-shadow: 0px 1px 2px rgba(60, 64, 67, 0.3), 0px 1px 3px 1px rgba(60, 64, 67, 0.15);\n",
       "      fill: #174EA6;\n",
       "    }\n",
       "\n",
       "    [theme=dark] .colab-df-convert {\n",
       "      background-color: #3B4455;\n",
       "      fill: #D2E3FC;\n",
       "    }\n",
       "\n",
       "    [theme=dark] .colab-df-convert:hover {\n",
       "      background-color: #434B5C;\n",
       "      box-shadow: 0px 1px 3px 1px rgba(0, 0, 0, 0.15);\n",
       "      filter: drop-shadow(0px 1px 2px rgba(0, 0, 0, 0.3));\n",
       "      fill: #FFFFFF;\n",
       "    }\n",
       "  </style>\n",
       "\n",
       "      <script>\n",
       "        const buttonEl =\n",
       "          document.querySelector('#df-cec0a3c0-0637-4053-bbf7-22fdabf65748 button.colab-df-convert');\n",
       "        buttonEl.style.display =\n",
       "          google.colab.kernel.accessAllowed ? 'block' : 'none';\n",
       "\n",
       "        async function convertToInteractive(key) {\n",
       "          const element = document.querySelector('#df-cec0a3c0-0637-4053-bbf7-22fdabf65748');\n",
       "          const dataTable =\n",
       "            await google.colab.kernel.invokeFunction('convertToInteractive',\n",
       "                                                     [key], {});\n",
       "          if (!dataTable) return;\n",
       "\n",
       "          const docLinkHtml = 'Like what you see? Visit the ' +\n",
       "            '<a target=\"_blank\" href=https://colab.research.google.com/notebooks/data_table.ipynb>data table notebook</a>'\n",
       "            + ' to learn more about interactive tables.';\n",
       "          element.innerHTML = '';\n",
       "          dataTable['output_type'] = 'display_data';\n",
       "          await google.colab.output.renderOutput(dataTable, element);\n",
       "          const docLink = document.createElement('div');\n",
       "          docLink.innerHTML = docLinkHtml;\n",
       "          element.appendChild(docLink);\n",
       "        }\n",
       "      </script>\n",
       "    </div>\n",
       "  </div>\n",
       "  "
      ],
      "text/plain": [
       "          0    1\n",
       "0  0.576058  1.0\n",
       "1  0.087924  1.0\n",
       "2  0.505423  1.0"
      ]
     },
     "execution_count": 122,
     "metadata": {},
     "output_type": "execute_result"
    }
   ],
   "source": [
    "pd.DataFrame(Qualite_matrix(nouvelles_coord))\n"
   ]
  },
  {
   "cell_type": "code",
   "execution_count": null,
   "id": "31f7P0WxjvFZ",
   "metadata": {
    "colab": {
     "base_uri": "https://localhost:8080/",
     "height": 165
    },
    "id": "31f7P0WxjvFZ",
    "outputId": "f721ef6e-2292-4d9e-b3c0-da3918ba05e9"
   },
   "outputs": [
    {
     "data": {
      "image/png": "[encoded data removed]",
      "text/plain": [
       "<Figure size 432x288 with 2 Axes>"
      ]
     },
     "metadata": {},
     "output_type": "display_data"
    }
   ],
   "source": [
    "fig = plt.figure( )\n",
    "ax1 = fig.add_subplot(221)\n",
    "sns.heatmap(pd.DataFrame(Qualite_matrix(nouvelles_coord)),ax = ax1,annot=True).set_title('la qualité de la projection d un individu ')\n",
    "plt.show()"
   ]
  },
  {
   "cell_type": "markdown",
   "id": "BvJvj1lehJZR",
   "metadata": {
    "id": "BvJvj1lehJZR"
   },
   "source": [
    "On en conclut que la qualité de projection est moyennement bonne car le nombre d’individus est plutôt faible"
   ]
  },
  {
   "cell_type": "markdown",
   "id": "vxOglF9zDqbC",
   "metadata": {
    "id": "vxOglF9zDqbC"
   },
   "source": [
    "#### l’AFC sur l’espace de Rn."
   ]
  },
  {
   "cell_type": "markdown",
   "id": "7kcXftulD7Dw",
   "metadata": {
    "id": "7kcXftulD7Dw"
   },
   "source": [
    "On reprend la même méthode et les mêmes calculs que dans l’AFC sur Rp, la seule différence étant dans la matrice à diagonaliser : T = F*Dp-1*F'*Dn-1\n"
   ]
  },
  {
   "cell_type": "markdown",
   "id": "bzkYFix3EGxF",
   "metadata": {
    "id": "bzkYFix3EGxF"
   },
   "source": [
    "Encore une fois, on voit que cette matrice est réelle mais pas symétrique. On reprend la même approche que tout à l’heure, quitte à invertir les rôles de F et F’ d’une part, et  et  d’autre part."
   ]
  },
  {
   "cell_type": "code",
   "execution_count": null,
   "id": "oGwhxYV4D-Cl",
   "metadata": {
    "colab": {
     "base_uri": "https://localhost:8080/"
    },
    "id": "oGwhxYV4D-Cl",
    "outputId": "0c2ac161-e59e-4a21-b029-a8d0a0e0d67f"
   },
   "outputs": [
    {
     "data": {
      "text/plain": [
       "array([[7.05934054e-06, 2.89462033e-06, 1.46862921e-06],\n",
       "       [2.89462033e-06, 9.82150991e-06, 5.80895562e-06],\n",
       "       [1.46862921e-06, 5.80895562e-06, 9.24050847e-06]])"
      ]
     },
     "execution_count": 106,
     "metadata": {},
     "output_type": "execute_result"
    }
   ],
   "source": [
    "M_chapeau = M_freq.dot(np.linalg.inv(Dp).dot(np.transpose(M_freq)))\n",
    "M =np.sqrt(np.linalg.inv(Dn)).dot(M_chapeau.dot(np.sqrt(np.linalg.inv(Dn))))\n",
    "M"
   ]
  },
  {
   "cell_type": "code",
   "execution_count": null,
   "id": "3QCLXKglEYF-",
   "metadata": {
    "colab": {
     "base_uri": "https://localhost:8080/"
    },
    "id": "3QCLXKglEYF-",
    "outputId": "1af4f379-1133-4f80-ee2c-94874e43e3cf"
   },
   "outputs": [
    {
     "name": "stdout",
     "output_type": "stream",
     "text": [
      "0\n"
     ]
    }
   ],
   "source": [
    "AFCN,vpN=A_Hyperplan(np.transpose(M))"
   ]
  },
  {
   "cell_type": "code",
   "execution_count": null,
   "id": "2T22RY_jEPl_",
   "metadata": {
    "colab": {
     "base_uri": "https://localhost:8080/",
     "height": 301
    },
    "id": "2T22RY_jEPl_",
    "outputId": "db109883-240a-4933-f937-cb6bccba953a"
   },
   "outputs": [
    {
     "name": "stdout",
     "output_type": "stream",
     "text": [
      "0\n"
     ]
    },
    {
     "data": {
      "image/png": "[encoded data removed]",
      "text/plain": [
       "<Figure size 432x288 with 1 Axes>"
      ]
     },
     "metadata": {},
     "output_type": "display_data"
    }
   ],
   "source": [
    "# la cascade des valeurs propres\n",
    "VP, VecP=A_Hyperplan(np.transpose(M),k=8)\n",
    "n,m = np.transpose(M).shape    \n",
    "plt.plot(np.arange(m),sorted(VP, reverse=True),'o-')\n",
    "plt.title(\"Cascade des valeurs propres \")\n",
    "plt.ylabel(\" Vals propres\")\n",
    "plt.show() "
   ]
  },
  {
   "cell_type": "code",
   "execution_count": null,
   "id": "28HMPCMOJu0g",
   "metadata": {
    "id": "28HMPCMOJu0g"
   },
   "outputs": [],
   "source": [
    "# On prend les deux premiers vecteurs propres comme axes factoriels, les autres \n",
    "# ont des valeurs propres correspondantes nulles si on arrondit à 3 chiffre après la virgule\n",
    "\n",
    "# Les nouvelles coordonées dans l'espace factoriel réduit \n",
    "\n",
    "nouvelles_coord3 = np.sqrt(Dn).dot(vpN[0])\n",
    "nouvelles_coord4 = np.sqrt(Dn).dot(vpN[1])\n",
    "\n",
    "axe3 = np.transpose(M_freq).dot(nouvelles_coord3)\n",
    "axe4 = -np.transpose(M_freq).dot(nouvelles_coord4)\n",
    "\n",
    "nouvelles_coord2 = pd.DataFrame([axe3, axe4])\n",
    "nouvelles_coord2 = np.transpose(nouvelles_coord2)\n",
    "nouvelles_coord2.columns = [\"Axe 1\", \"Axe 2\"]\n",
    "\n"
   ]
  },
  {
   "cell_type": "code",
   "execution_count": null,
   "id": "o0LFRFlgz7FC",
   "metadata": {
    "colab": {
     "base_uri": "https://localhost:8080/",
     "height": 284
    },
    "id": "o0LFRFlgz7FC",
    "outputId": "ba2d8998-360d-493b-9a0c-140c8b657151"
   },
   "outputs": [
    {
     "data": {
      "image/png": "[encoded data removed]",
      "text/plain": [
       "<Figure size 432x288 with 1 Axes>"
      ]
     },
     "metadata": {},
     "output_type": "display_data"
    }
   ],
   "source": [
    "# Visualisation du nuage dans l'espace factoriel réduit\n",
    "\n",
    "noms2 = [\"Non répondu\",\"Administratif\",\"Technicien (OS)\",\"Ingénieur\",\"Technicien supérieur\", \"Direction\", \"Contactuel S1\", \"Contractuel S2\"]\n",
    "plt.scatter(nouvelles_coord2.loc[:,\"Axe 1\"],nouvelles_coord2.loc[:,\"Axe 2\"])\n",
    "plt.grid()\n",
    "plt.title(\"Représentation des fonctions dans le nouveau plan factoriel\")\n",
    "for i in range(8):\n",
    "  plt.text(nouvelles_coord2.loc[:,\"Axe 1\"][i],nouvelles_coord2.loc[:,\"Axe 2\"][i],noms2[i])\n",
    "plt.show()"
   ]
  },
  {
   "cell_type": "code",
   "execution_count": null,
   "id": "QU03msoS2jMG",
   "metadata": {
    "colab": {
     "base_uri": "https://localhost:8080/",
     "height": 437
    },
    "id": "QU03msoS2jMG",
    "outputId": "c6940b9e-5dc5-49e3-ca1d-027bdf661076"
   },
   "outputs": [
    {
     "data": {
      "image/png": "[encoded data removed]",
      "text/plain": [
       "<Figure size 1080x1080 with 2 Axes>"
      ]
     },
     "metadata": {},
     "output_type": "display_data"
    }
   ],
   "source": [
    "fig = plt.figure(figsize= (15, 15))\n",
    "ax1 = fig.add_subplot(221)\n",
    "sns.heatmap(Qualite_matrix(nouvelles_coord2).real,ax = ax1,annot=True).set_title('la qualité de la projection d un individu ')\n",
    "plt.show()"
   ]
  },
  {
   "cell_type": "markdown",
   "id": "Sg5BL3Vn-I5k",
   "metadata": {
    "id": "Sg5BL3Vn-I5k"
   },
   "source": [
    "La qualité de projection est très élevée pour toutes les fonctions sauf la première qui correspond à « Non répondu ». On peut conclure que l’AFC dans l’espace  se fait sans perte d’information.\n"
   ]
  },
  {
   "cell_type": "markdown",
   "id": "5bab2441",
   "metadata": {
    "id": "5bab2441"
   },
   "source": [
    "## Question5: "
   ]
  },
  {
   "cell_type": "code",
   "execution_count": null,
   "id": "fQoChfUUGhES",
   "metadata": {
    "colab": {
     "base_uri": "https://localhost:8080/"
    },
    "id": "fQoChfUUGhES",
    "outputId": "60fbfc72-68ac-45a2-d924-f8998e20dfcd"
   },
   "outputs": [
    {
     "name": "stdout",
     "output_type": "stream",
     "text": [
      "Looking in indexes: https://pypi.org/simple, https://us-python.pkg.dev/colab-wheels/public/simple/\n",
      "Collecting fanalysis\n",
      "  Downloading fanalysis-0.0.1-py3-none-any.whl (56 kB)\n",
      "\u001b[K     |████████████████████████████████| 56 kB 2.2 MB/s \n",
      "\u001b[?25hRequirement already satisfied: numpy>=1.11.0 in /usr/local/lib/python3.7/dist-packages (from fanalysis) (1.21.6)\n",
      "Requirement already satisfied: pandas>=0.19.0 in /usr/local/lib/python3.7/dist-packages (from fanalysis) (1.3.5)\n",
      "Requirement already satisfied: matplotlib>=2.0.0 in /usr/local/lib/python3.7/dist-packages (from fanalysis) (3.2.2)\n",
      "Requirement already satisfied: scikit-learn>=0.18.0 in /usr/local/lib/python3.7/dist-packages (from fanalysis) (1.0.2)\n",
      "Requirement already satisfied: python-dateutil>=2.1 in /usr/local/lib/python3.7/dist-packages (from matplotlib>=2.0.0->fanalysis) (2.8.2)\n",
      "Requirement already satisfied: cycler>=0.10 in /usr/local/lib/python3.7/dist-packages (from matplotlib>=2.0.0->fanalysis) (0.11.0)\n",
      "Requirement already satisfied: kiwisolver>=1.0.1 in /usr/local/lib/python3.7/dist-packages (from matplotlib>=2.0.0->fanalysis) (1.4.4)\n",
      "Requirement already satisfied: pyparsing!=2.0.4,!=2.1.2,!=2.1.6,>=2.0.1 in /usr/local/lib/python3.7/dist-packages (from matplotlib>=2.0.0->fanalysis) (3.0.9)\n",
      "Requirement already satisfied: typing-extensions in /usr/local/lib/python3.7/dist-packages (from kiwisolver>=1.0.1->matplotlib>=2.0.0->fanalysis) (4.1.1)\n",
      "Requirement already satisfied: pytz>=2017.3 in /usr/local/lib/python3.7/dist-packages (from pandas>=0.19.0->fanalysis) (2022.5)\n",
      "Requirement already satisfied: six>=1.5 in /usr/local/lib/python3.7/dist-packages (from python-dateutil>=2.1->matplotlib>=2.0.0->fanalysis) (1.15.0)\n",
      "Requirement already satisfied: scipy>=1.1.0 in /usr/local/lib/python3.7/dist-packages (from scikit-learn>=0.18.0->fanalysis) (1.7.3)\n",
      "Requirement already satisfied: threadpoolctl>=2.0.0 in /usr/local/lib/python3.7/dist-packages (from scikit-learn>=0.18.0->fanalysis) (3.1.0)\n",
      "Requirement already satisfied: joblib>=0.11 in /usr/local/lib/python3.7/dist-packages (from scikit-learn>=0.18.0->fanalysis) (1.2.0)\n",
      "Installing collected packages: fanalysis\n",
      "Successfully installed fanalysis-0.0.1\n"
     ]
    }
   ],
   "source": [
    "pip install fanalysis"
   ]
  },
  {
   "cell_type": "code",
   "execution_count": null,
   "id": "9b4509cc",
   "metadata": {
    "colab": {
     "base_uri": "https://localhost:8080/"
    },
    "id": "9b4509cc",
    "outputId": "09aa0bed-640d-44e3-8800-03ab689468d2"
   },
   "outputs": [
    {
     "data": {
      "text/plain": [
       "CA(col_labels=RangeIndex(start=0, stop=8, step=1),\n",
       "   row_labels=RangeIndex(start=0, stop=3, step=1))"
      ]
     },
     "execution_count": 113,
     "metadata": {},
     "output_type": "execute_result"
    }
   ],
   "source": [
    "from fanalysis.ca import CA\n",
    "afc = CA(row_labels=MC.index,col_labels=MC.columns) \n",
    "afc.fit(MC.values)"
   ]
  },
  {
   "cell_type": "code",
   "execution_count": null,
   "id": "kA7D-KHiKvEl",
   "metadata": {
    "colab": {
     "base_uri": "https://localhost:8080/"
    },
    "id": "kA7D-KHiKvEl",
    "outputId": "57e2448e-6828-4ab6-a363-fa470787833e"
   },
   "outputs": [
    {
     "name": "stdout",
     "output_type": "stream",
     "text": [
      "          0         1\n",
      "0 -1.748434  0.445119\n",
      "1  0.002676 -0.461658\n",
      "2  0.433844  0.451943\n"
     ]
    }
   ],
   "source": [
    "print(pd.DataFrame(afc.row_coord_))"
   ]
  },
  {
   "cell_type": "code",
   "execution_count": null,
   "id": "e904a3e3",
   "metadata": {
    "colab": {
     "base_uri": "https://localhost:8080/",
     "height": 301
    },
    "id": "e904a3e3",
    "outputId": "41241998-c6f8-4f5d-927c-8015bda9eb36",
    "scrolled": true
   },
   "outputs": [
    {
     "data": {
      "image/png": "[encoded data removed]",
      "text/plain": [
       "<Figure size 432x288 with 1 Axes>"
      ]
     },
     "metadata": {},
     "output_type": "display_data"
    }
   ],
   "source": [
    "afc.plot_eigenvalues(type=\"percentage\")"
   ]
  },
  {
   "cell_type": "markdown",
   "id": "Nco_2jj1LDxG",
   "metadata": {
    "id": "Nco_2jj1LDxG"
   },
   "source": [
    "Nous représentons les lignes des individus dans le premier plan factoriel qui restitue 6% de l'information disponible."
   ]
  },
  {
   "cell_type": "code",
   "execution_count": null,
   "id": "_SQfH7CbO4Y1",
   "metadata": {
    "colab": {
     "base_uri": "https://localhost:8080/",
     "height": 301
    },
    "id": "_SQfH7CbO4Y1",
    "outputId": "cea7b6b0-3504-4da5-fb7f-8626bbb9c792"
   },
   "outputs": [
    {
     "data": {
      "image/png": "[encoded data removed]",
      "text/plain": [
       "<Figure size 432x288 with 1 Axes>"
      ]
     },
     "metadata": {},
     "output_type": "display_data"
    }
   ],
   "source": [
    "afc.plot_eigenvalues(type=\"cumulative\")\n"
   ]
  },
  {
   "cell_type": "code",
   "execution_count": null,
   "id": "91ffeaa0",
   "metadata": {
    "colab": {
     "base_uri": "https://localhost:8080/",
     "height": 380
    },
    "id": "91ffeaa0",
    "outputId": "424090f0-6604-4d95-c640-b718dec9afcb"
   },
   "outputs": [
    {
     "data": {
      "image/png": "[encoded data removed]",
      "text/plain": [
       "<Figure size 864x864 with 2 Axes>"
      ]
     },
     "metadata": {},
     "output_type": "display_data"
    }
   ],
   "source": [
    "fig = plt.figure(figsize= (12, 12))\n",
    "ax1 = fig.add_subplot(221)\n",
    "ax2 = fig.add_subplot(222)\n",
    "\n",
    "ax1.axis([-2,+2,-2,+2])\n",
    "ax1.plot([-2,+2],[0,0],color='red',linestyle='--') \n",
    "ax1.plot([0,0],[-2,+2],color='red',linestyle='--') \n",
    "ax1.set_xlabel(\"Dim.1\")\n",
    "ax1.set_ylabel(\"Dim.2\")\n",
    "ax1.set_title('les modalités lignes avec my  AFC', fontsize=12)\n",
    "\n",
    "\n",
    "for i in range(M_freq.shape[0]):\n",
    "    ax1.text(AFC[i,1],AFC[i,2],pd.DataFrame(M_freq).index[i]) \n",
    "    \n",
    "ax2.axis([-2,+2,-2,+2])\n",
    "ax2.plot([-2,+2],[0,0],color='red',linestyle='--') \n",
    "ax2.plot([0,0],[-2,+2],color='red',linestyle='--') \n",
    "ax2.set_xlabel(\"Dim.1\")\n",
    "ax2.set_ylabel(\"Dim.2\")\n",
    "ax2.set_title('les modalités lignes avec Fanalysis', fontsize=12)\n",
    "\n",
    "for i in range(M_freq.shape[0]):\n",
    "    ax2.text(afc.row_coord_[i,0],afc.row_coord_[i,1],MC.index[i]) \n",
    "\n",
    "    \n",
    "plt.show()"
   ]
  },
  {
   "cell_type": "markdown",
   "id": "44848cfd",
   "metadata": {
    "id": "44848cfd"
   },
   "source": [
    "On remarque qu'on a une symétrie par rapport à l'axe de milieu entre les deux graphiques. "
   ]
  },
  {
   "cell_type": "markdown",
   "id": "iqnJ5XL6LrGl",
   "metadata": {
    "id": "iqnJ5XL6LrGl"
   },
   "source": [
    "En plaçant la même échelle en abscisse et en ordonnée, on voit que la différenciation des modalités de la ligne se joue presque exclusivement sur le premier axe factoriel\n",
    "\n",
    "Calculons les distances euclidiennes dans le 1er plan."
   ]
  },
  {
   "cell_type": "code",
   "execution_count": null,
   "id": "5f841f1b",
   "metadata": {
    "colab": {
     "base_uri": "https://localhost:8080/",
     "height": 313
    },
    "id": "5f841f1b",
    "outputId": "0c79cba5-f20e-4db9-99fe-acf269d42f43"
   },
   "outputs": [
    {
     "data": {
      "image/png": "[encoded data removed]",
      "text/plain": [
       "<Figure size 720x720 with 2 Axes>"
      ]
     },
     "metadata": {},
     "output_type": "display_data"
    }
   ],
   "source": [
    "fig = plt.figure(figsize= (10, 10))\n",
    "ax1 = fig.add_subplot(221)\n",
    "ax2 = fig.add_subplot(222)\n",
    "\n",
    "\n",
    "sns.barplot(np.linspace(start=1, stop=8, num=8),\n",
    "            vp/(sum(vp)),\n",
    "            color = 'blue', \n",
    "            ax=ax1).set_title(' ratio of explained variance barplot')\n",
    "\n",
    "sns.barplot(np.linspace(start=1, stop=8, num=8),\n",
    "            np.cumsum(vp/(sum(vp))),\n",
    "            color = 'blue', \n",
    "            ax=ax2).set_title(' Cumulative explained variance barplot ')\n",
    "\n",
    "plt.show()"
   ]
  },
  {
   "cell_type": "code",
   "execution_count": null,
   "id": "fa88b357",
   "metadata": {
    "colab": {
     "base_uri": "https://localhost:8080/",
     "height": 301
    },
    "id": "fa88b357",
    "outputId": "60a21ac1-4118-465d-a666-539f08803515"
   },
   "outputs": [
    {
     "data": {
      "image/png": "[encoded data removed]",
      "text/plain": [
       "<Figure size 432x288 with 1 Axes>"
      ]
     },
     "metadata": {},
     "output_type": "display_data"
    }
   ],
   "source": [
    "afc.plot_eigenvalues(type=\"cumulative\")"
   ]
  },
  {
   "cell_type": "code",
   "execution_count": null,
   "id": "f809c9c3",
   "metadata": {
    "colab": {
     "base_uri": "https://localhost:8080/",
     "height": 284
    },
    "id": "f809c9c3",
    "outputId": "91867387-cb16-4da0-ec3c-4c2560c6b12e"
   },
   "outputs": [
    {
     "data": {
      "image/png": "[encoded data removed]",
      "text/plain": [
       "<Figure size 432x288 with 2 Axes>"
      ]
     },
     "metadata": {},
     "output_type": "display_data"
    }
   ],
   "source": [
    "sns.heatmap(Qualite_matrix(afc.col_coord_),annot=True).set_title('Individual_quality_projection')\n",
    "plt.show()"
   ]
  },
  {
   "cell_type": "code",
   "execution_count": null,
   "id": "12ec4716",
   "metadata": {
    "colab": {
     "base_uri": "https://localhost:8080/",
     "height": 284
    },
    "id": "12ec4716",
    "outputId": "c2b090b0-334e-47b0-aa3b-74cf70c233aa"
   },
   "outputs": [
    {
     "data": {
      "image/png": "[encoded data removed]",
      "text/plain": [
       "<Figure size 432x288 with 2 Axes>"
      ]
     },
     "metadata": {},
     "output_type": "display_data"
    }
   ],
   "source": [
    "sns.heatmap(Qualite_matrix(afc.row_coord_),annot=True).set_title('Individual_quality_projection')\n",
    "plt.show()"
   ]
  },
  {
   "cell_type": "code",
   "execution_count": null,
   "id": "20d8ab4a",
   "metadata": {
    "colab": {
     "base_uri": "https://localhost:8080/"
    },
    "id": "20d8ab4a",
    "outputId": "935af4d7-ea73-4d70-8a98-82fd9b65b7bb"
   },
   "outputs": [
    {
     "data": {
      "text/plain": [
       "(146.6285826878836, 3.391029301261047e-24, 14)"
      ]
     },
     "execution_count": 87,
     "metadata": {},
     "output_type": "execute_result"
    }
   ],
   "source": [
    "import scipy.stats as st\n",
    "st_chi2, st_p, st_dof, st_exp = st.chi2_contingency(MC)\n",
    "st_chi2, st_p, st_dof"
   ]
  },
  {
   "cell_type": "markdown",
   "id": "NabECDmSPmm4",
   "metadata": {
    "id": "NabECDmSPmm4"
   },
   "source": [
    "2 types de graphiques peuvent être réalisés :\n",
    "\n",
    "Les mapping classiques qui représentent les points lignes et colonnes sur un plan factoriel\n",
    "Des graphiques qui permettent d'interpréter rapidement les axes : on choisit un axe factoriel (le 1er axe dans notre exemple) et on observe quels sont les points lignes et colonnes qui pr les plus fortes contributions et cos2 pour cet axe"
   ]
  },
  {
   "cell_type": "code",
   "execution_count": null,
   "id": "aa03ff66",
   "metadata": {
    "colab": {
     "base_uri": "https://localhost:8080/",
     "height": 518
    },
    "id": "aa03ff66",
    "outputId": "3a56fa00-1c1c-4675-986a-376de154e4a8"
   },
   "outputs": [
    {
     "data": {
      "image/png": "[encoded data removed]",
      "text/plain": [
       "<Figure size 720x576 with 1 Axes>"
      ]
     },
     "metadata": {},
     "output_type": "display_data"
    }
   ],
   "source": [
    "afc.mapping(1, 2, figsize=(10, 8))"
   ]
  },
  {
   "cell_type": "markdown",
   "id": "ULecjbj-Epmm",
   "metadata": {
    "id": "ULecjbj-Epmm"
   },
   "source": [
    "D’après la représentation graphique simultanée, on peut conclure que les hommes ont plus tendance à occuper les fonctions d’ingénieur ou technicien/technicien supérieur dans l’entreprise et que les femmes ont plus tendance à occuper les postes administratifs de l’entreprise."
   ]
  },
  {
   "cell_type": "code",
   "execution_count": null,
   "id": "gJ4ke69TPuOv",
   "metadata": {
    "colab": {
     "base_uri": "https://localhost:8080/",
     "height": 518
    },
    "id": "gJ4ke69TPuOv",
    "outputId": "543e0fc5-133f-43cb-89d1-ebea65b3a17f"
   },
   "outputs": [
    {
     "data": {
      "image/png": "[encoded data removed]",
      "text/plain": [
       "<Figure size 720x576 with 1 Axes>"
      ]
     },
     "metadata": {},
     "output_type": "display_data"
    }
   ],
   "source": [
    "# Mapping des points lignes\n",
    "afc.mapping_row(num_x_axis=1, num_y_axis=2,figsize=(10, 8))"
   ]
  },
  {
   "cell_type": "code",
   "execution_count": null,
   "id": "jGY9gfaxQCxx",
   "metadata": {
    "colab": {
     "base_uri": "https://localhost:8080/",
     "height": 518
    },
    "id": "jGY9gfaxQCxx",
    "outputId": "4a2f69e4-fdec-431e-e719-34e2078880f6"
   },
   "outputs": [
    {
     "data": {
      "image/png": "[encoded data removed]",
      "text/plain": [
       "<Figure size 720x576 with 1 Axes>"
      ]
     },
     "metadata": {},
     "output_type": "display_data"
    }
   ],
   "source": [
    "# Mapping des points colonnes\n",
    "afc.mapping_col(num_x_axis=1, num_y_axis=2, figsize=(10, 8))"
   ]
  },
  {
   "cell_type": "code",
   "execution_count": null,
   "id": "C6tC-bmBQJts",
   "metadata": {
    "colab": {
     "base_uri": "https://localhost:8080/",
     "height": 301
    },
    "id": "C6tC-bmBQJts",
    "outputId": "2e2d5f8a-1bd9-4043-f13f-e59306db2774"
   },
   "outputs": [
    {
     "data": {
      "image/png": "[encoded data removed]",
      "text/plain": [
       "<Figure size 432x288 with 1 Axes>"
      ]
     },
     "metadata": {},
     "output_type": "display_data"
    }
   ],
   "source": [
    "# Classement des points lignes en fonction de leur contribution au 1er axe\n",
    "afc.plot_row_contrib(num_axis=1)\n"
   ]
  },
  {
   "cell_type": "code",
   "execution_count": null,
   "id": "vOyACIxDQOmu",
   "metadata": {
    "colab": {
     "base_uri": "https://localhost:8080/",
     "height": 301
    },
    "id": "vOyACIxDQOmu",
    "outputId": "8e9bfc2e-98ae-4012-e6c6-833d33472ebc"
   },
   "outputs": [
    {
     "data": {
      "image/png": "[encoded data removed]",
      "text/plain": [
       "<Figure size 432x288 with 1 Axes>"
      ]
     },
     "metadata": {},
     "output_type": "display_data"
    }
   ],
   "source": [
    "# Classement des points lignes en fonction de leur cos2 sur le 1er axe\n",
    "afc.plot_row_cos2(num_axis=1)"
   ]
  },
  {
   "cell_type": "code",
   "execution_count": null,
   "id": "ii2HbPCEQYhL",
   "metadata": {
    "colab": {
     "base_uri": "https://localhost:8080/",
     "height": 301
    },
    "id": "ii2HbPCEQYhL",
    "outputId": "6c510d8d-2e38-42a3-839a-b8932763accf"
   },
   "outputs": [
    {
     "data": {
      "image/png": "[encoded data removed]",
      "text/plain": [
       "<Figure size 432x288 with 1 Axes>"
      ]
     },
     "metadata": {},
     "output_type": "display_data"
    }
   ],
   "source": [
    "# Classement des points colonnes en fonction de leur contribution au 1er axe\n",
    "afc.plot_col_contrib(num_axis=1)"
   ]
  },
  {
   "cell_type": "code",
   "execution_count": null,
   "id": "mXdZ0XRHQdo5",
   "metadata": {
    "colab": {
     "base_uri": "https://localhost:8080/",
     "height": 301
    },
    "id": "mXdZ0XRHQdo5",
    "outputId": "d5acf54a-76f4-4c62-d8a1-b597cc05545d"
   },
   "outputs": [
    {
     "data": {
      "image/png": "[encoded data removed]",
      "text/plain": [
       "<Figure size 432x288 with 1 Axes>"
      ]
     },
     "metadata": {},
     "output_type": "display_data"
    }
   ],
   "source": [
    "# Classement des points colonnes en fonction de leur cos2 sur le 1er axe\n",
    "afc.plot_col_cos2(num_axis=1)"
   ]
  },
  {
   "cell_type": "markdown",
   "id": "716n9XHS9pDT",
   "metadata": {
    "id": "716n9XHS9pDT"
   },
   "source": [
    "Que l’analyse soit faite suivant la fonction occupée dans l’entreprise ou suivant le genre de l’employé, on conclut que l’entreprise fournit à ses employés un temps suffisant pour la réalisation de leurs tâches."
   ]
  }
 ],
 "metadata": {
  "colab": {
   "provenance": []
  },
  "kernelspec": {
   "display_name": "Python 3 (ipykernel)",
   "language": "python",
   "name": "python3"
  },
  "language_info": {
   "codemirror_mode": {
    "name": "ipython",
    "version": 3
   },
   "file_extension": ".py",
   "mimetype": "text/x-python",
   "name": "python",
   "nbconvert_exporter": "python",
   "pygments_lexer": "ipython3",
   "version": "3.9.12"
  }
 },
 "nbformat": 4,
 "nbformat_minor": 5
}
